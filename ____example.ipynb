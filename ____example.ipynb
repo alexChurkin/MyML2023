{
 "cells": [
  {
   "cell_type": "markdown",
   "metadata": {
    "colab_type": "text",
    "id": "view-in-github"
   },
   "source": [
    "<a href=\"https://colab.research.google.com/github/NikolaiZolotykh/MachineLearningCourse/blob/master/VADII_06_%D0%9E%D1%86%D0%B5%D0%BD%D0%BA%D0%B0_%D1%81%D1%82%D0%BE%D0%B8%D0%BC%D0%BE%D1%81%D1%82%D0%B8_%D0%BA%D0%B2%D0%B0%D1%80%D1%82%D0%B8%D1%80%D1%8B.ipynb\" target=\"_parent\"><img src=\"https://colab.research.google.com/assets/colab-badge.svg\" alt=\"Open In Colab\"/></a>"
   ]
  },
  {
   "cell_type": "code",
   "execution_count": 1,
   "metadata": {
    "id": "Zj2wH8p_i-Ub"
   },
   "outputs": [],
   "source": [
    "import numpy as np              # Одномерные и многомерные массивы (array)\n",
    "import pandas as pd             # Таблицы и временные ряды (dataframe, series)\n",
    "import matplotlib.pyplot as plt # Научная графика\n",
    "import seaborn as sns           # Еще больше красивой графики для визуализации данных\n",
    "import sklearn                  # Алгоритмы машинного обучения"
   ]
  },
  {
   "cell_type": "markdown",
   "metadata": {
    "id": "udc4UfOai-Ug"
   },
   "source": [
    "# **Оценка стоимости квартиры**\n"
   ]
  },
  {
   "cell_type": "markdown",
   "metadata": {
    "id": "PI2iz4y0i-Ug"
   },
   "source": [
    "# 1. Загружаем данные\n",
    "\n",
    "Загружаем файл из интернета:"
   ]
  },
  {
   "cell_type": "code",
   "execution_count": 2,
   "metadata": {
    "id": "TWaSEcgBi-Uh"
   },
   "outputs": [],
   "source": [
    "url = \"https://raw.githubusercontent.com/NikolaiZolotykh/MachineLearningCourse/master/flats.csv\"\n",
    "data_raw = pd.read_csv(url)"
   ]
  },
  {
   "cell_type": "markdown",
   "metadata": {
    "id": "4yi8oywT3Zz5"
   },
   "source": [
    "Точно так же можно загрузить файл с локального диска, только вместо `url` надо указать путь. Однако если вы пользуетесь colab, то чтобы загрузить файл с локального диска придется поступить по-другому:"
   ]
  },
  {
   "cell_type": "code",
   "execution_count": 3,
   "metadata": {
    "id": "7pDsltCl3Yap"
   },
   "outputs": [],
   "source": [
    "#from google.colab import files\n",
    "#uploaded = files.upload()"
   ]
  },
  {
   "cell_type": "code",
   "execution_count": 4,
   "metadata": {
    "id": "fI2y8USr3pIB"
   },
   "outputs": [],
   "source": [
    "#import io\n",
    "#data_raw = pd.read_csv(io.BytesIO(uploaded['flats.csv']))"
   ]
  },
  {
   "cell_type": "markdown",
   "metadata": {
    "id": "EwTA172ti-Ui"
   },
   "source": [
    "Таблица содержит данные о более 72 тысяч квартир, выставленных на продажу в г.Нижнем Новгороде в 2017 г. Для каждой квартиры указаны ее цена (в тыс. руб.), географические координаты, тип продажи (вторичка или новостройка), количество этажей, тип дома, количество комнат (0 - квартира-студия), номер этажа и общая площадь квартиры (в кв.м).\n",
    "\n",
    "Вначале посмотрим на размеры таблицы: количество строк (каждая строка соответствует одной квартире) и количество столбцов (каждый столбец соответствует конкретному признаку):"
   ]
  },
  {
   "cell_type": "code",
   "execution_count": 5,
   "metadata": {
    "colab": {
     "base_uri": "https://localhost:8080/"
    },
    "id": "ldgAuJQMi-Uj",
    "outputId": "5b427297-6c8c-4862-faf0-3649f8323814"
   },
   "outputs": [
    {
     "data": {
      "text/plain": [
       "(72379, 10)"
      ]
     },
     "execution_count": 5,
     "metadata": {},
     "output_type": "execute_result"
    }
   ],
   "source": [
    "data_raw.shape"
   ]
  },
  {
   "cell_type": "code",
   "execution_count": 6,
   "metadata": {
    "colab": {
     "base_uri": "https://localhost:8080/",
     "height": 423
    },
    "id": "4ANxv2lPu11e",
    "outputId": "54036cc1-c70f-4604-98e6-63b2a4349eeb"
   },
   "outputs": [
    {
     "data": {
      "text/html": [
       "\n",
       "  <div id=\"df-b3f60de7-a510-4a3d-bdfa-39cceb3994d7\" class=\"colab-df-container\">\n",
       "    <div>\n",
       "<style scoped>\n",
       "    .dataframe tbody tr th:only-of-type {\n",
       "        vertical-align: middle;\n",
       "    }\n",
       "\n",
       "    .dataframe tbody tr th {\n",
       "        vertical-align: top;\n",
       "    }\n",
       "\n",
       "    .dataframe thead th {\n",
       "        text-align: right;\n",
       "    }\n",
       "</style>\n",
       "<table border=\"1\" class=\"dataframe\">\n",
       "  <thead>\n",
       "    <tr style=\"text-align: right;\">\n",
       "      <th></th>\n",
       "      <th>Price</th>\n",
       "      <th>Date</th>\n",
       "      <th>Lat</th>\n",
       "      <th>Lng</th>\n",
       "      <th>Type</th>\n",
       "      <th>Floors</th>\n",
       "      <th>Building</th>\n",
       "      <th>Rooms</th>\n",
       "      <th>Floor</th>\n",
       "      <th>Area</th>\n",
       "    </tr>\n",
       "  </thead>\n",
       "  <tbody>\n",
       "    <tr>\n",
       "      <th>0</th>\n",
       "      <td>3500.000</td>\n",
       "      <td>240</td>\n",
       "      <td>56.365696</td>\n",
       "      <td>43.820250</td>\n",
       "      <td>Resale</td>\n",
       "      <td>9.0</td>\n",
       "      <td>Brick</td>\n",
       "      <td>3.0</td>\n",
       "      <td>4.0</td>\n",
       "      <td>60.0</td>\n",
       "    </tr>\n",
       "    <tr>\n",
       "      <th>1</th>\n",
       "      <td>4000.000</td>\n",
       "      <td>240</td>\n",
       "      <td>56.323057</td>\n",
       "      <td>44.007862</td>\n",
       "      <td>Resale</td>\n",
       "      <td>3.0</td>\n",
       "      <td>Brick</td>\n",
       "      <td>3.0</td>\n",
       "      <td>3.0</td>\n",
       "      <td>57.0</td>\n",
       "    </tr>\n",
       "    <tr>\n",
       "      <th>2</th>\n",
       "      <td>2150.000</td>\n",
       "      <td>240</td>\n",
       "      <td>56.267552</td>\n",
       "      <td>43.892107</td>\n",
       "      <td>Resale</td>\n",
       "      <td>5.0</td>\n",
       "      <td>Panel</td>\n",
       "      <td>2.0</td>\n",
       "      <td>1.0</td>\n",
       "      <td>38.0</td>\n",
       "    </tr>\n",
       "    <tr>\n",
       "      <th>3</th>\n",
       "      <td>3100.000</td>\n",
       "      <td>240</td>\n",
       "      <td>56.359963</td>\n",
       "      <td>43.813756</td>\n",
       "      <td>Resale</td>\n",
       "      <td>5.0</td>\n",
       "      <td>Panel</td>\n",
       "      <td>4.0</td>\n",
       "      <td>2.0</td>\n",
       "      <td>59.0</td>\n",
       "    </tr>\n",
       "    <tr>\n",
       "      <th>4</th>\n",
       "      <td>3585.000</td>\n",
       "      <td>240</td>\n",
       "      <td>56.325374</td>\n",
       "      <td>43.937463</td>\n",
       "      <td>Resale</td>\n",
       "      <td>9.0</td>\n",
       "      <td>Panel</td>\n",
       "      <td>2.0</td>\n",
       "      <td>7.0</td>\n",
       "      <td>52.5</td>\n",
       "    </tr>\n",
       "    <tr>\n",
       "      <th>...</th>\n",
       "      <td>...</td>\n",
       "      <td>...</td>\n",
       "      <td>...</td>\n",
       "      <td>...</td>\n",
       "      <td>...</td>\n",
       "      <td>...</td>\n",
       "      <td>...</td>\n",
       "      <td>...</td>\n",
       "      <td>...</td>\n",
       "      <td>...</td>\n",
       "    </tr>\n",
       "    <tr>\n",
       "      <th>72374</th>\n",
       "      <td>3250.000</td>\n",
       "      <td>372</td>\n",
       "      <td>56.282006</td>\n",
       "      <td>44.085056</td>\n",
       "      <td>Resale</td>\n",
       "      <td>14.0</td>\n",
       "      <td>Monolithic</td>\n",
       "      <td>1.0</td>\n",
       "      <td>1.0</td>\n",
       "      <td>44.7</td>\n",
       "    </tr>\n",
       "    <tr>\n",
       "      <th>72375</th>\n",
       "      <td>2824.800</td>\n",
       "      <td>371</td>\n",
       "      <td>56.348480</td>\n",
       "      <td>43.873340</td>\n",
       "      <td>Resale</td>\n",
       "      <td>17.0</td>\n",
       "      <td>Brick</td>\n",
       "      <td>1.0</td>\n",
       "      <td>3.0</td>\n",
       "      <td>42.8</td>\n",
       "    </tr>\n",
       "    <tr>\n",
       "      <th>72376</th>\n",
       "      <td>3316.125</td>\n",
       "      <td>371</td>\n",
       "      <td>56.300964</td>\n",
       "      <td>43.951468</td>\n",
       "      <td>New</td>\n",
       "      <td>25.0</td>\n",
       "      <td>Monolithic</td>\n",
       "      <td>2.0</td>\n",
       "      <td>5.0</td>\n",
       "      <td>55.5</td>\n",
       "    </tr>\n",
       "    <tr>\n",
       "      <th>72377</th>\n",
       "      <td>13600.000</td>\n",
       "      <td>371</td>\n",
       "      <td>56.329327</td>\n",
       "      <td>44.014997</td>\n",
       "      <td>Resale</td>\n",
       "      <td>5.0</td>\n",
       "      <td>Brick</td>\n",
       "      <td>3.0</td>\n",
       "      <td>4.0</td>\n",
       "      <td>81.9</td>\n",
       "    </tr>\n",
       "    <tr>\n",
       "      <th>72378</th>\n",
       "      <td>1490.000</td>\n",
       "      <td>372</td>\n",
       "      <td>56.323293</td>\n",
       "      <td>43.868697</td>\n",
       "      <td>Resale</td>\n",
       "      <td>2.0</td>\n",
       "      <td>Brick</td>\n",
       "      <td>2.0</td>\n",
       "      <td>2.0</td>\n",
       "      <td>46.0</td>\n",
       "    </tr>\n",
       "  </tbody>\n",
       "</table>\n",
       "<p>72379 rows × 10 columns</p>\n",
       "</div>\n",
       "    <div class=\"colab-df-buttons\">\n",
       "\n",
       "  <div class=\"colab-df-container\">\n",
       "    <button class=\"colab-df-convert\" onclick=\"convertToInteractive('df-b3f60de7-a510-4a3d-bdfa-39cceb3994d7')\"\n",
       "            title=\"Convert this dataframe to an interactive table.\"\n",
       "            style=\"display:none;\">\n",
       "\n",
       "  <svg xmlns=\"http://www.w3.org/2000/svg\" height=\"24px\" viewBox=\"0 -960 960 960\">\n",
       "    <path d=\"M120-120v-720h720v720H120Zm60-500h600v-160H180v160Zm220 220h160v-160H400v160Zm0 220h160v-160H400v160ZM180-400h160v-160H180v160Zm440 0h160v-160H620v160ZM180-180h160v-160H180v160Zm440 0h160v-160H620v160Z\"/>\n",
       "  </svg>\n",
       "    </button>\n",
       "\n",
       "  <style>\n",
       "    .colab-df-container {\n",
       "      display:flex;\n",
       "      gap: 12px;\n",
       "    }\n",
       "\n",
       "    .colab-df-convert {\n",
       "      background-color: #E8F0FE;\n",
       "      border: none;\n",
       "      border-radius: 50%;\n",
       "      cursor: pointer;\n",
       "      display: none;\n",
       "      fill: #1967D2;\n",
       "      height: 32px;\n",
       "      padding: 0 0 0 0;\n",
       "      width: 32px;\n",
       "    }\n",
       "\n",
       "    .colab-df-convert:hover {\n",
       "      background-color: #E2EBFA;\n",
       "      box-shadow: 0px 1px 2px rgba(60, 64, 67, 0.3), 0px 1px 3px 1px rgba(60, 64, 67, 0.15);\n",
       "      fill: #174EA6;\n",
       "    }\n",
       "\n",
       "    .colab-df-buttons div {\n",
       "      margin-bottom: 4px;\n",
       "    }\n",
       "\n",
       "    [theme=dark] .colab-df-convert {\n",
       "      background-color: #3B4455;\n",
       "      fill: #D2E3FC;\n",
       "    }\n",
       "\n",
       "    [theme=dark] .colab-df-convert:hover {\n",
       "      background-color: #434B5C;\n",
       "      box-shadow: 0px 1px 3px 1px rgba(0, 0, 0, 0.15);\n",
       "      filter: drop-shadow(0px 1px 2px rgba(0, 0, 0, 0.3));\n",
       "      fill: #FFFFFF;\n",
       "    }\n",
       "  </style>\n",
       "\n",
       "    <script>\n",
       "      const buttonEl =\n",
       "        document.querySelector('#df-b3f60de7-a510-4a3d-bdfa-39cceb3994d7 button.colab-df-convert');\n",
       "      buttonEl.style.display =\n",
       "        google.colab.kernel.accessAllowed ? 'block' : 'none';\n",
       "\n",
       "      async function convertToInteractive(key) {\n",
       "        const element = document.querySelector('#df-b3f60de7-a510-4a3d-bdfa-39cceb3994d7');\n",
       "        const dataTable =\n",
       "          await google.colab.kernel.invokeFunction('convertToInteractive',\n",
       "                                                    [key], {});\n",
       "        if (!dataTable) return;\n",
       "\n",
       "        const docLinkHtml = 'Like what you see? Visit the ' +\n",
       "          '<a target=\"_blank\" href=https://colab.research.google.com/notebooks/data_table.ipynb>data table notebook</a>'\n",
       "          + ' to learn more about interactive tables.';\n",
       "        element.innerHTML = '';\n",
       "        dataTable['output_type'] = 'display_data';\n",
       "        await google.colab.output.renderOutput(dataTable, element);\n",
       "        const docLink = document.createElement('div');\n",
       "        docLink.innerHTML = docLinkHtml;\n",
       "        element.appendChild(docLink);\n",
       "      }\n",
       "    </script>\n",
       "  </div>\n",
       "\n",
       "\n",
       "<div id=\"df-782c778d-80fd-40cc-9cad-d495fcc19f72\">\n",
       "  <button class=\"colab-df-quickchart\" onclick=\"quickchart('df-782c778d-80fd-40cc-9cad-d495fcc19f72')\"\n",
       "            title=\"Suggest charts.\"\n",
       "            style=\"display:none;\">\n",
       "\n",
       "<svg xmlns=\"http://www.w3.org/2000/svg\" height=\"24px\"viewBox=\"0 0 24 24\"\n",
       "     width=\"24px\">\n",
       "    <g>\n",
       "        <path d=\"M19 3H5c-1.1 0-2 .9-2 2v14c0 1.1.9 2 2 2h14c1.1 0 2-.9 2-2V5c0-1.1-.9-2-2-2zM9 17H7v-7h2v7zm4 0h-2V7h2v10zm4 0h-2v-4h2v4z\"/>\n",
       "    </g>\n",
       "</svg>\n",
       "  </button>\n",
       "\n",
       "<style>\n",
       "  .colab-df-quickchart {\n",
       "      --bg-color: #E8F0FE;\n",
       "      --fill-color: #1967D2;\n",
       "      --hover-bg-color: #E2EBFA;\n",
       "      --hover-fill-color: #174EA6;\n",
       "      --disabled-fill-color: #AAA;\n",
       "      --disabled-bg-color: #DDD;\n",
       "  }\n",
       "\n",
       "  [theme=dark] .colab-df-quickchart {\n",
       "      --bg-color: #3B4455;\n",
       "      --fill-color: #D2E3FC;\n",
       "      --hover-bg-color: #434B5C;\n",
       "      --hover-fill-color: #FFFFFF;\n",
       "      --disabled-bg-color: #3B4455;\n",
       "      --disabled-fill-color: #666;\n",
       "  }\n",
       "\n",
       "  .colab-df-quickchart {\n",
       "    background-color: var(--bg-color);\n",
       "    border: none;\n",
       "    border-radius: 50%;\n",
       "    cursor: pointer;\n",
       "    display: none;\n",
       "    fill: var(--fill-color);\n",
       "    height: 32px;\n",
       "    padding: 0;\n",
       "    width: 32px;\n",
       "  }\n",
       "\n",
       "  .colab-df-quickchart:hover {\n",
       "    background-color: var(--hover-bg-color);\n",
       "    box-shadow: 0 1px 2px rgba(60, 64, 67, 0.3), 0 1px 3px 1px rgba(60, 64, 67, 0.15);\n",
       "    fill: var(--button-hover-fill-color);\n",
       "  }\n",
       "\n",
       "  .colab-df-quickchart-complete:disabled,\n",
       "  .colab-df-quickchart-complete:disabled:hover {\n",
       "    background-color: var(--disabled-bg-color);\n",
       "    fill: var(--disabled-fill-color);\n",
       "    box-shadow: none;\n",
       "  }\n",
       "\n",
       "  .colab-df-spinner {\n",
       "    border: 2px solid var(--fill-color);\n",
       "    border-color: transparent;\n",
       "    border-bottom-color: var(--fill-color);\n",
       "    animation:\n",
       "      spin 1s steps(1) infinite;\n",
       "  }\n",
       "\n",
       "  @keyframes spin {\n",
       "    0% {\n",
       "      border-color: transparent;\n",
       "      border-bottom-color: var(--fill-color);\n",
       "      border-left-color: var(--fill-color);\n",
       "    }\n",
       "    20% {\n",
       "      border-color: transparent;\n",
       "      border-left-color: var(--fill-color);\n",
       "      border-top-color: var(--fill-color);\n",
       "    }\n",
       "    30% {\n",
       "      border-color: transparent;\n",
       "      border-left-color: var(--fill-color);\n",
       "      border-top-color: var(--fill-color);\n",
       "      border-right-color: var(--fill-color);\n",
       "    }\n",
       "    40% {\n",
       "      border-color: transparent;\n",
       "      border-right-color: var(--fill-color);\n",
       "      border-top-color: var(--fill-color);\n",
       "    }\n",
       "    60% {\n",
       "      border-color: transparent;\n",
       "      border-right-color: var(--fill-color);\n",
       "    }\n",
       "    80% {\n",
       "      border-color: transparent;\n",
       "      border-right-color: var(--fill-color);\n",
       "      border-bottom-color: var(--fill-color);\n",
       "    }\n",
       "    90% {\n",
       "      border-color: transparent;\n",
       "      border-bottom-color: var(--fill-color);\n",
       "    }\n",
       "  }\n",
       "</style>\n",
       "\n",
       "  <script>\n",
       "    async function quickchart(key) {\n",
       "      const quickchartButtonEl =\n",
       "        document.querySelector('#' + key + ' button');\n",
       "      quickchartButtonEl.disabled = true;  // To prevent multiple clicks.\n",
       "      quickchartButtonEl.classList.add('colab-df-spinner');\n",
       "      try {\n",
       "        const charts = await google.colab.kernel.invokeFunction(\n",
       "            'suggestCharts', [key], {});\n",
       "      } catch (error) {\n",
       "        console.error('Error during call to suggestCharts:', error);\n",
       "      }\n",
       "      quickchartButtonEl.classList.remove('colab-df-spinner');\n",
       "      quickchartButtonEl.classList.add('colab-df-quickchart-complete');\n",
       "    }\n",
       "    (() => {\n",
       "      let quickchartButtonEl =\n",
       "        document.querySelector('#df-782c778d-80fd-40cc-9cad-d495fcc19f72 button');\n",
       "      quickchartButtonEl.style.display =\n",
       "        google.colab.kernel.accessAllowed ? 'block' : 'none';\n",
       "    })();\n",
       "  </script>\n",
       "</div>\n",
       "    </div>\n",
       "  </div>\n"
      ],
      "text/plain": [
       "           Price  Date        Lat        Lng    Type  Floors    Building  \\\n",
       "0       3500.000   240  56.365696  43.820250  Resale     9.0       Brick   \n",
       "1       4000.000   240  56.323057  44.007862  Resale     3.0       Brick   \n",
       "2       2150.000   240  56.267552  43.892107  Resale     5.0       Panel   \n",
       "3       3100.000   240  56.359963  43.813756  Resale     5.0       Panel   \n",
       "4       3585.000   240  56.325374  43.937463  Resale     9.0       Panel   \n",
       "...          ...   ...        ...        ...     ...     ...         ...   \n",
       "72374   3250.000   372  56.282006  44.085056  Resale    14.0  Monolithic   \n",
       "72375   2824.800   371  56.348480  43.873340  Resale    17.0       Brick   \n",
       "72376   3316.125   371  56.300964  43.951468     New    25.0  Monolithic   \n",
       "72377  13600.000   371  56.329327  44.014997  Resale     5.0       Brick   \n",
       "72378   1490.000   372  56.323293  43.868697  Resale     2.0       Brick   \n",
       "\n",
       "       Rooms  Floor  Area  \n",
       "0        3.0    4.0  60.0  \n",
       "1        3.0    3.0  57.0  \n",
       "2        2.0    1.0  38.0  \n",
       "3        4.0    2.0  59.0  \n",
       "4        2.0    7.0  52.5  \n",
       "...      ...    ...   ...  \n",
       "72374    1.0    1.0  44.7  \n",
       "72375    1.0    3.0  42.8  \n",
       "72376    2.0    5.0  55.5  \n",
       "72377    3.0    4.0  81.9  \n",
       "72378    2.0    2.0  46.0  \n",
       "\n",
       "[72379 rows x 10 columns]"
      ]
     },
     "execution_count": 6,
     "metadata": {},
     "output_type": "execute_result"
    }
   ],
   "source": [
    "data_raw"
   ]
  },
  {
   "cell_type": "markdown",
   "metadata": {
    "id": "o2-vW0QZu6-r"
   },
   "source": [
    "Метод `data_raw.head()` отображает первые строки (по умолчанию, 5 строк) таблицы"
   ]
  },
  {
   "cell_type": "code",
   "execution_count": 7,
   "metadata": {
    "colab": {
     "base_uri": "https://localhost:8080/",
     "height": 519
    },
    "id": "RF4o54qti-Ul",
    "outputId": "847726eb-e5cb-482b-cb56-8286df0a21f8"
   },
   "outputs": [
    {
     "data": {
      "text/html": [
       "\n",
       "  <div id=\"df-246bf682-38f9-4b70-bf0a-4b35d0c9a7b4\" class=\"colab-df-container\">\n",
       "    <div>\n",
       "<style scoped>\n",
       "    .dataframe tbody tr th:only-of-type {\n",
       "        vertical-align: middle;\n",
       "    }\n",
       "\n",
       "    .dataframe tbody tr th {\n",
       "        vertical-align: top;\n",
       "    }\n",
       "\n",
       "    .dataframe thead th {\n",
       "        text-align: right;\n",
       "    }\n",
       "</style>\n",
       "<table border=\"1\" class=\"dataframe\">\n",
       "  <thead>\n",
       "    <tr style=\"text-align: right;\">\n",
       "      <th></th>\n",
       "      <th>Price</th>\n",
       "      <th>Date</th>\n",
       "      <th>Lat</th>\n",
       "      <th>Lng</th>\n",
       "      <th>Type</th>\n",
       "      <th>Floors</th>\n",
       "      <th>Building</th>\n",
       "      <th>Rooms</th>\n",
       "      <th>Floor</th>\n",
       "      <th>Area</th>\n",
       "    </tr>\n",
       "  </thead>\n",
       "  <tbody>\n",
       "    <tr>\n",
       "      <th>0</th>\n",
       "      <td>3500.0</td>\n",
       "      <td>240</td>\n",
       "      <td>56.365696</td>\n",
       "      <td>43.820250</td>\n",
       "      <td>Resale</td>\n",
       "      <td>9.0</td>\n",
       "      <td>Brick</td>\n",
       "      <td>3.0</td>\n",
       "      <td>4.0</td>\n",
       "      <td>60.0</td>\n",
       "    </tr>\n",
       "    <tr>\n",
       "      <th>1</th>\n",
       "      <td>4000.0</td>\n",
       "      <td>240</td>\n",
       "      <td>56.323057</td>\n",
       "      <td>44.007862</td>\n",
       "      <td>Resale</td>\n",
       "      <td>3.0</td>\n",
       "      <td>Brick</td>\n",
       "      <td>3.0</td>\n",
       "      <td>3.0</td>\n",
       "      <td>57.0</td>\n",
       "    </tr>\n",
       "    <tr>\n",
       "      <th>2</th>\n",
       "      <td>2150.0</td>\n",
       "      <td>240</td>\n",
       "      <td>56.267552</td>\n",
       "      <td>43.892107</td>\n",
       "      <td>Resale</td>\n",
       "      <td>5.0</td>\n",
       "      <td>Panel</td>\n",
       "      <td>2.0</td>\n",
       "      <td>1.0</td>\n",
       "      <td>38.0</td>\n",
       "    </tr>\n",
       "    <tr>\n",
       "      <th>3</th>\n",
       "      <td>3100.0</td>\n",
       "      <td>240</td>\n",
       "      <td>56.359963</td>\n",
       "      <td>43.813756</td>\n",
       "      <td>Resale</td>\n",
       "      <td>5.0</td>\n",
       "      <td>Panel</td>\n",
       "      <td>4.0</td>\n",
       "      <td>2.0</td>\n",
       "      <td>59.0</td>\n",
       "    </tr>\n",
       "    <tr>\n",
       "      <th>4</th>\n",
       "      <td>3585.0</td>\n",
       "      <td>240</td>\n",
       "      <td>56.325374</td>\n",
       "      <td>43.937463</td>\n",
       "      <td>Resale</td>\n",
       "      <td>9.0</td>\n",
       "      <td>Panel</td>\n",
       "      <td>2.0</td>\n",
       "      <td>7.0</td>\n",
       "      <td>52.5</td>\n",
       "    </tr>\n",
       "    <tr>\n",
       "      <th>5</th>\n",
       "      <td>2380.0</td>\n",
       "      <td>240</td>\n",
       "      <td>56.368027</td>\n",
       "      <td>43.818317</td>\n",
       "      <td>Resale</td>\n",
       "      <td>9.0</td>\n",
       "      <td>Brick</td>\n",
       "      <td>2.0</td>\n",
       "      <td>7.0</td>\n",
       "      <td>46.0</td>\n",
       "    </tr>\n",
       "    <tr>\n",
       "      <th>6</th>\n",
       "      <td>38500.0</td>\n",
       "      <td>240</td>\n",
       "      <td>56.317963</td>\n",
       "      <td>44.063230</td>\n",
       "      <td>Resale</td>\n",
       "      <td>25.0</td>\n",
       "      <td>Brick</td>\n",
       "      <td>5.0</td>\n",
       "      <td>22.0</td>\n",
       "      <td>313.0</td>\n",
       "    </tr>\n",
       "    <tr>\n",
       "      <th>7</th>\n",
       "      <td>1500.0</td>\n",
       "      <td>241</td>\n",
       "      <td>56.346896</td>\n",
       "      <td>43.802428</td>\n",
       "      <td>Resale</td>\n",
       "      <td>5.0</td>\n",
       "      <td>Panel</td>\n",
       "      <td>1.0</td>\n",
       "      <td>2.0</td>\n",
       "      <td>28.0</td>\n",
       "    </tr>\n",
       "    <tr>\n",
       "      <th>8</th>\n",
       "      <td>1669.0</td>\n",
       "      <td>240</td>\n",
       "      <td>56.283915</td>\n",
       "      <td>44.082083</td>\n",
       "      <td>New</td>\n",
       "      <td>7.0</td>\n",
       "      <td>Block</td>\n",
       "      <td>1.0</td>\n",
       "      <td>5.0</td>\n",
       "      <td>33.0</td>\n",
       "    </tr>\n",
       "    <tr>\n",
       "      <th>9</th>\n",
       "      <td>3800.0</td>\n",
       "      <td>240</td>\n",
       "      <td>56.366988</td>\n",
       "      <td>43.809653</td>\n",
       "      <td>New</td>\n",
       "      <td>14.0</td>\n",
       "      <td>Monolithic</td>\n",
       "      <td>2.0</td>\n",
       "      <td>2.0</td>\n",
       "      <td>73.0</td>\n",
       "    </tr>\n",
       "    <tr>\n",
       "      <th>10</th>\n",
       "      <td>6800.0</td>\n",
       "      <td>241</td>\n",
       "      <td>56.350018</td>\n",
       "      <td>43.852357</td>\n",
       "      <td>Resale</td>\n",
       "      <td>12.0</td>\n",
       "      <td>Brick</td>\n",
       "      <td>3.0</td>\n",
       "      <td>4.0</td>\n",
       "      <td>86.0</td>\n",
       "    </tr>\n",
       "    <tr>\n",
       "      <th>11</th>\n",
       "      <td>6800.0</td>\n",
       "      <td>240</td>\n",
       "      <td>56.306377</td>\n",
       "      <td>43.995808</td>\n",
       "      <td>Resale</td>\n",
       "      <td>17.0</td>\n",
       "      <td>Brick</td>\n",
       "      <td>2.0</td>\n",
       "      <td>12.0</td>\n",
       "      <td>78.0</td>\n",
       "    </tr>\n",
       "    <tr>\n",
       "      <th>12</th>\n",
       "      <td>1900.0</td>\n",
       "      <td>241</td>\n",
       "      <td>56.334837</td>\n",
       "      <td>43.842008</td>\n",
       "      <td>Resale</td>\n",
       "      <td>9.0</td>\n",
       "      <td>Brick</td>\n",
       "      <td>1.0</td>\n",
       "      <td>6.0</td>\n",
       "      <td>30.3</td>\n",
       "    </tr>\n",
       "    <tr>\n",
       "      <th>13</th>\n",
       "      <td>2300.0</td>\n",
       "      <td>241</td>\n",
       "      <td>56.313898</td>\n",
       "      <td>43.994802</td>\n",
       "      <td>Resale</td>\n",
       "      <td>2.0</td>\n",
       "      <td>Brick</td>\n",
       "      <td>2.0</td>\n",
       "      <td>2.0</td>\n",
       "      <td>37.0</td>\n",
       "    </tr>\n",
       "    <tr>\n",
       "      <th>14</th>\n",
       "      <td>850.0</td>\n",
       "      <td>241</td>\n",
       "      <td>56.326887</td>\n",
       "      <td>44.005977</td>\n",
       "      <td>Resale</td>\n",
       "      <td>2.0</td>\n",
       "      <td>Brick</td>\n",
       "      <td>3.0</td>\n",
       "      <td>2.0</td>\n",
       "      <td>60.0</td>\n",
       "    </tr>\n",
       "  </tbody>\n",
       "</table>\n",
       "</div>\n",
       "    <div class=\"colab-df-buttons\">\n",
       "\n",
       "  <div class=\"colab-df-container\">\n",
       "    <button class=\"colab-df-convert\" onclick=\"convertToInteractive('df-246bf682-38f9-4b70-bf0a-4b35d0c9a7b4')\"\n",
       "            title=\"Convert this dataframe to an interactive table.\"\n",
       "            style=\"display:none;\">\n",
       "\n",
       "  <svg xmlns=\"http://www.w3.org/2000/svg\" height=\"24px\" viewBox=\"0 -960 960 960\">\n",
       "    <path d=\"M120-120v-720h720v720H120Zm60-500h600v-160H180v160Zm220 220h160v-160H400v160Zm0 220h160v-160H400v160ZM180-400h160v-160H180v160Zm440 0h160v-160H620v160ZM180-180h160v-160H180v160Zm440 0h160v-160H620v160Z\"/>\n",
       "  </svg>\n",
       "    </button>\n",
       "\n",
       "  <style>\n",
       "    .colab-df-container {\n",
       "      display:flex;\n",
       "      gap: 12px;\n",
       "    }\n",
       "\n",
       "    .colab-df-convert {\n",
       "      background-color: #E8F0FE;\n",
       "      border: none;\n",
       "      border-radius: 50%;\n",
       "      cursor: pointer;\n",
       "      display: none;\n",
       "      fill: #1967D2;\n",
       "      height: 32px;\n",
       "      padding: 0 0 0 0;\n",
       "      width: 32px;\n",
       "    }\n",
       "\n",
       "    .colab-df-convert:hover {\n",
       "      background-color: #E2EBFA;\n",
       "      box-shadow: 0px 1px 2px rgba(60, 64, 67, 0.3), 0px 1px 3px 1px rgba(60, 64, 67, 0.15);\n",
       "      fill: #174EA6;\n",
       "    }\n",
       "\n",
       "    .colab-df-buttons div {\n",
       "      margin-bottom: 4px;\n",
       "    }\n",
       "\n",
       "    [theme=dark] .colab-df-convert {\n",
       "      background-color: #3B4455;\n",
       "      fill: #D2E3FC;\n",
       "    }\n",
       "\n",
       "    [theme=dark] .colab-df-convert:hover {\n",
       "      background-color: #434B5C;\n",
       "      box-shadow: 0px 1px 3px 1px rgba(0, 0, 0, 0.15);\n",
       "      filter: drop-shadow(0px 1px 2px rgba(0, 0, 0, 0.3));\n",
       "      fill: #FFFFFF;\n",
       "    }\n",
       "  </style>\n",
       "\n",
       "    <script>\n",
       "      const buttonEl =\n",
       "        document.querySelector('#df-246bf682-38f9-4b70-bf0a-4b35d0c9a7b4 button.colab-df-convert');\n",
       "      buttonEl.style.display =\n",
       "        google.colab.kernel.accessAllowed ? 'block' : 'none';\n",
       "\n",
       "      async function convertToInteractive(key) {\n",
       "        const element = document.querySelector('#df-246bf682-38f9-4b70-bf0a-4b35d0c9a7b4');\n",
       "        const dataTable =\n",
       "          await google.colab.kernel.invokeFunction('convertToInteractive',\n",
       "                                                    [key], {});\n",
       "        if (!dataTable) return;\n",
       "\n",
       "        const docLinkHtml = 'Like what you see? Visit the ' +\n",
       "          '<a target=\"_blank\" href=https://colab.research.google.com/notebooks/data_table.ipynb>data table notebook</a>'\n",
       "          + ' to learn more about interactive tables.';\n",
       "        element.innerHTML = '';\n",
       "        dataTable['output_type'] = 'display_data';\n",
       "        await google.colab.output.renderOutput(dataTable, element);\n",
       "        const docLink = document.createElement('div');\n",
       "        docLink.innerHTML = docLinkHtml;\n",
       "        element.appendChild(docLink);\n",
       "      }\n",
       "    </script>\n",
       "  </div>\n",
       "\n",
       "\n",
       "<div id=\"df-b690575f-934b-4472-bbc2-76bc46800db8\">\n",
       "  <button class=\"colab-df-quickchart\" onclick=\"quickchart('df-b690575f-934b-4472-bbc2-76bc46800db8')\"\n",
       "            title=\"Suggest charts.\"\n",
       "            style=\"display:none;\">\n",
       "\n",
       "<svg xmlns=\"http://www.w3.org/2000/svg\" height=\"24px\"viewBox=\"0 0 24 24\"\n",
       "     width=\"24px\">\n",
       "    <g>\n",
       "        <path d=\"M19 3H5c-1.1 0-2 .9-2 2v14c0 1.1.9 2 2 2h14c1.1 0 2-.9 2-2V5c0-1.1-.9-2-2-2zM9 17H7v-7h2v7zm4 0h-2V7h2v10zm4 0h-2v-4h2v4z\"/>\n",
       "    </g>\n",
       "</svg>\n",
       "  </button>\n",
       "\n",
       "<style>\n",
       "  .colab-df-quickchart {\n",
       "      --bg-color: #E8F0FE;\n",
       "      --fill-color: #1967D2;\n",
       "      --hover-bg-color: #E2EBFA;\n",
       "      --hover-fill-color: #174EA6;\n",
       "      --disabled-fill-color: #AAA;\n",
       "      --disabled-bg-color: #DDD;\n",
       "  }\n",
       "\n",
       "  [theme=dark] .colab-df-quickchart {\n",
       "      --bg-color: #3B4455;\n",
       "      --fill-color: #D2E3FC;\n",
       "      --hover-bg-color: #434B5C;\n",
       "      --hover-fill-color: #FFFFFF;\n",
       "      --disabled-bg-color: #3B4455;\n",
       "      --disabled-fill-color: #666;\n",
       "  }\n",
       "\n",
       "  .colab-df-quickchart {\n",
       "    background-color: var(--bg-color);\n",
       "    border: none;\n",
       "    border-radius: 50%;\n",
       "    cursor: pointer;\n",
       "    display: none;\n",
       "    fill: var(--fill-color);\n",
       "    height: 32px;\n",
       "    padding: 0;\n",
       "    width: 32px;\n",
       "  }\n",
       "\n",
       "  .colab-df-quickchart:hover {\n",
       "    background-color: var(--hover-bg-color);\n",
       "    box-shadow: 0 1px 2px rgba(60, 64, 67, 0.3), 0 1px 3px 1px rgba(60, 64, 67, 0.15);\n",
       "    fill: var(--button-hover-fill-color);\n",
       "  }\n",
       "\n",
       "  .colab-df-quickchart-complete:disabled,\n",
       "  .colab-df-quickchart-complete:disabled:hover {\n",
       "    background-color: var(--disabled-bg-color);\n",
       "    fill: var(--disabled-fill-color);\n",
       "    box-shadow: none;\n",
       "  }\n",
       "\n",
       "  .colab-df-spinner {\n",
       "    border: 2px solid var(--fill-color);\n",
       "    border-color: transparent;\n",
       "    border-bottom-color: var(--fill-color);\n",
       "    animation:\n",
       "      spin 1s steps(1) infinite;\n",
       "  }\n",
       "\n",
       "  @keyframes spin {\n",
       "    0% {\n",
       "      border-color: transparent;\n",
       "      border-bottom-color: var(--fill-color);\n",
       "      border-left-color: var(--fill-color);\n",
       "    }\n",
       "    20% {\n",
       "      border-color: transparent;\n",
       "      border-left-color: var(--fill-color);\n",
       "      border-top-color: var(--fill-color);\n",
       "    }\n",
       "    30% {\n",
       "      border-color: transparent;\n",
       "      border-left-color: var(--fill-color);\n",
       "      border-top-color: var(--fill-color);\n",
       "      border-right-color: var(--fill-color);\n",
       "    }\n",
       "    40% {\n",
       "      border-color: transparent;\n",
       "      border-right-color: var(--fill-color);\n",
       "      border-top-color: var(--fill-color);\n",
       "    }\n",
       "    60% {\n",
       "      border-color: transparent;\n",
       "      border-right-color: var(--fill-color);\n",
       "    }\n",
       "    80% {\n",
       "      border-color: transparent;\n",
       "      border-right-color: var(--fill-color);\n",
       "      border-bottom-color: var(--fill-color);\n",
       "    }\n",
       "    90% {\n",
       "      border-color: transparent;\n",
       "      border-bottom-color: var(--fill-color);\n",
       "    }\n",
       "  }\n",
       "</style>\n",
       "\n",
       "  <script>\n",
       "    async function quickchart(key) {\n",
       "      const quickchartButtonEl =\n",
       "        document.querySelector('#' + key + ' button');\n",
       "      quickchartButtonEl.disabled = true;  // To prevent multiple clicks.\n",
       "      quickchartButtonEl.classList.add('colab-df-spinner');\n",
       "      try {\n",
       "        const charts = await google.colab.kernel.invokeFunction(\n",
       "            'suggestCharts', [key], {});\n",
       "      } catch (error) {\n",
       "        console.error('Error during call to suggestCharts:', error);\n",
       "      }\n",
       "      quickchartButtonEl.classList.remove('colab-df-spinner');\n",
       "      quickchartButtonEl.classList.add('colab-df-quickchart-complete');\n",
       "    }\n",
       "    (() => {\n",
       "      let quickchartButtonEl =\n",
       "        document.querySelector('#df-b690575f-934b-4472-bbc2-76bc46800db8 button');\n",
       "      quickchartButtonEl.style.display =\n",
       "        google.colab.kernel.accessAllowed ? 'block' : 'none';\n",
       "    })();\n",
       "  </script>\n",
       "</div>\n",
       "    </div>\n",
       "  </div>\n"
      ],
      "text/plain": [
       "      Price  Date        Lat        Lng    Type  Floors    Building  Rooms  \\\n",
       "0    3500.0   240  56.365696  43.820250  Resale     9.0       Brick    3.0   \n",
       "1    4000.0   240  56.323057  44.007862  Resale     3.0       Brick    3.0   \n",
       "2    2150.0   240  56.267552  43.892107  Resale     5.0       Panel    2.0   \n",
       "3    3100.0   240  56.359963  43.813756  Resale     5.0       Panel    4.0   \n",
       "4    3585.0   240  56.325374  43.937463  Resale     9.0       Panel    2.0   \n",
       "5    2380.0   240  56.368027  43.818317  Resale     9.0       Brick    2.0   \n",
       "6   38500.0   240  56.317963  44.063230  Resale    25.0       Brick    5.0   \n",
       "7    1500.0   241  56.346896  43.802428  Resale     5.0       Panel    1.0   \n",
       "8    1669.0   240  56.283915  44.082083     New     7.0       Block    1.0   \n",
       "9    3800.0   240  56.366988  43.809653     New    14.0  Monolithic    2.0   \n",
       "10   6800.0   241  56.350018  43.852357  Resale    12.0       Brick    3.0   \n",
       "11   6800.0   240  56.306377  43.995808  Resale    17.0       Brick    2.0   \n",
       "12   1900.0   241  56.334837  43.842008  Resale     9.0       Brick    1.0   \n",
       "13   2300.0   241  56.313898  43.994802  Resale     2.0       Brick    2.0   \n",
       "14    850.0   241  56.326887  44.005977  Resale     2.0       Brick    3.0   \n",
       "\n",
       "    Floor   Area  \n",
       "0     4.0   60.0  \n",
       "1     3.0   57.0  \n",
       "2     1.0   38.0  \n",
       "3     2.0   59.0  \n",
       "4     7.0   52.5  \n",
       "5     7.0   46.0  \n",
       "6    22.0  313.0  \n",
       "7     2.0   28.0  \n",
       "8     5.0   33.0  \n",
       "9     2.0   73.0  \n",
       "10    4.0   86.0  \n",
       "11   12.0   78.0  \n",
       "12    6.0   30.3  \n",
       "13    2.0   37.0  \n",
       "14    2.0   60.0  "
      ]
     },
     "execution_count": 7,
     "metadata": {},
     "output_type": "execute_result"
    }
   ],
   "source": [
    "data_raw.head(15)"
   ]
  },
  {
   "cell_type": "markdown",
   "metadata": {
    "id": "FAJWDyStvFoL"
   },
   "source": [
    "А вот последние строки:"
   ]
  },
  {
   "cell_type": "code",
   "execution_count": 8,
   "metadata": {
    "colab": {
     "base_uri": "https://localhost:8080/",
     "height": 206
    },
    "id": "PjjrzoFMvEAT",
    "outputId": "1408c05a-bcc2-4552-f91f-7092b72a5c17"
   },
   "outputs": [
    {
     "data": {
      "text/html": [
       "\n",
       "  <div id=\"df-3af46352-5367-4208-aff4-15a0ac33df1c\" class=\"colab-df-container\">\n",
       "    <div>\n",
       "<style scoped>\n",
       "    .dataframe tbody tr th:only-of-type {\n",
       "        vertical-align: middle;\n",
       "    }\n",
       "\n",
       "    .dataframe tbody tr th {\n",
       "        vertical-align: top;\n",
       "    }\n",
       "\n",
       "    .dataframe thead th {\n",
       "        text-align: right;\n",
       "    }\n",
       "</style>\n",
       "<table border=\"1\" class=\"dataframe\">\n",
       "  <thead>\n",
       "    <tr style=\"text-align: right;\">\n",
       "      <th></th>\n",
       "      <th>Price</th>\n",
       "      <th>Date</th>\n",
       "      <th>Lat</th>\n",
       "      <th>Lng</th>\n",
       "      <th>Type</th>\n",
       "      <th>Floors</th>\n",
       "      <th>Building</th>\n",
       "      <th>Rooms</th>\n",
       "      <th>Floor</th>\n",
       "      <th>Area</th>\n",
       "    </tr>\n",
       "  </thead>\n",
       "  <tbody>\n",
       "    <tr>\n",
       "      <th>72374</th>\n",
       "      <td>3250.000</td>\n",
       "      <td>372</td>\n",
       "      <td>56.282006</td>\n",
       "      <td>44.085056</td>\n",
       "      <td>Resale</td>\n",
       "      <td>14.0</td>\n",
       "      <td>Monolithic</td>\n",
       "      <td>1.0</td>\n",
       "      <td>1.0</td>\n",
       "      <td>44.7</td>\n",
       "    </tr>\n",
       "    <tr>\n",
       "      <th>72375</th>\n",
       "      <td>2824.800</td>\n",
       "      <td>371</td>\n",
       "      <td>56.348480</td>\n",
       "      <td>43.873340</td>\n",
       "      <td>Resale</td>\n",
       "      <td>17.0</td>\n",
       "      <td>Brick</td>\n",
       "      <td>1.0</td>\n",
       "      <td>3.0</td>\n",
       "      <td>42.8</td>\n",
       "    </tr>\n",
       "    <tr>\n",
       "      <th>72376</th>\n",
       "      <td>3316.125</td>\n",
       "      <td>371</td>\n",
       "      <td>56.300964</td>\n",
       "      <td>43.951468</td>\n",
       "      <td>New</td>\n",
       "      <td>25.0</td>\n",
       "      <td>Monolithic</td>\n",
       "      <td>2.0</td>\n",
       "      <td>5.0</td>\n",
       "      <td>55.5</td>\n",
       "    </tr>\n",
       "    <tr>\n",
       "      <th>72377</th>\n",
       "      <td>13600.000</td>\n",
       "      <td>371</td>\n",
       "      <td>56.329327</td>\n",
       "      <td>44.014997</td>\n",
       "      <td>Resale</td>\n",
       "      <td>5.0</td>\n",
       "      <td>Brick</td>\n",
       "      <td>3.0</td>\n",
       "      <td>4.0</td>\n",
       "      <td>81.9</td>\n",
       "    </tr>\n",
       "    <tr>\n",
       "      <th>72378</th>\n",
       "      <td>1490.000</td>\n",
       "      <td>372</td>\n",
       "      <td>56.323293</td>\n",
       "      <td>43.868697</td>\n",
       "      <td>Resale</td>\n",
       "      <td>2.0</td>\n",
       "      <td>Brick</td>\n",
       "      <td>2.0</td>\n",
       "      <td>2.0</td>\n",
       "      <td>46.0</td>\n",
       "    </tr>\n",
       "  </tbody>\n",
       "</table>\n",
       "</div>\n",
       "    <div class=\"colab-df-buttons\">\n",
       "\n",
       "  <div class=\"colab-df-container\">\n",
       "    <button class=\"colab-df-convert\" onclick=\"convertToInteractive('df-3af46352-5367-4208-aff4-15a0ac33df1c')\"\n",
       "            title=\"Convert this dataframe to an interactive table.\"\n",
       "            style=\"display:none;\">\n",
       "\n",
       "  <svg xmlns=\"http://www.w3.org/2000/svg\" height=\"24px\" viewBox=\"0 -960 960 960\">\n",
       "    <path d=\"M120-120v-720h720v720H120Zm60-500h600v-160H180v160Zm220 220h160v-160H400v160Zm0 220h160v-160H400v160ZM180-400h160v-160H180v160Zm440 0h160v-160H620v160ZM180-180h160v-160H180v160Zm440 0h160v-160H620v160Z\"/>\n",
       "  </svg>\n",
       "    </button>\n",
       "\n",
       "  <style>\n",
       "    .colab-df-container {\n",
       "      display:flex;\n",
       "      gap: 12px;\n",
       "    }\n",
       "\n",
       "    .colab-df-convert {\n",
       "      background-color: #E8F0FE;\n",
       "      border: none;\n",
       "      border-radius: 50%;\n",
       "      cursor: pointer;\n",
       "      display: none;\n",
       "      fill: #1967D2;\n",
       "      height: 32px;\n",
       "      padding: 0 0 0 0;\n",
       "      width: 32px;\n",
       "    }\n",
       "\n",
       "    .colab-df-convert:hover {\n",
       "      background-color: #E2EBFA;\n",
       "      box-shadow: 0px 1px 2px rgba(60, 64, 67, 0.3), 0px 1px 3px 1px rgba(60, 64, 67, 0.15);\n",
       "      fill: #174EA6;\n",
       "    }\n",
       "\n",
       "    .colab-df-buttons div {\n",
       "      margin-bottom: 4px;\n",
       "    }\n",
       "\n",
       "    [theme=dark] .colab-df-convert {\n",
       "      background-color: #3B4455;\n",
       "      fill: #D2E3FC;\n",
       "    }\n",
       "\n",
       "    [theme=dark] .colab-df-convert:hover {\n",
       "      background-color: #434B5C;\n",
       "      box-shadow: 0px 1px 3px 1px rgba(0, 0, 0, 0.15);\n",
       "      filter: drop-shadow(0px 1px 2px rgba(0, 0, 0, 0.3));\n",
       "      fill: #FFFFFF;\n",
       "    }\n",
       "  </style>\n",
       "\n",
       "    <script>\n",
       "      const buttonEl =\n",
       "        document.querySelector('#df-3af46352-5367-4208-aff4-15a0ac33df1c button.colab-df-convert');\n",
       "      buttonEl.style.display =\n",
       "        google.colab.kernel.accessAllowed ? 'block' : 'none';\n",
       "\n",
       "      async function convertToInteractive(key) {\n",
       "        const element = document.querySelector('#df-3af46352-5367-4208-aff4-15a0ac33df1c');\n",
       "        const dataTable =\n",
       "          await google.colab.kernel.invokeFunction('convertToInteractive',\n",
       "                                                    [key], {});\n",
       "        if (!dataTable) return;\n",
       "\n",
       "        const docLinkHtml = 'Like what you see? Visit the ' +\n",
       "          '<a target=\"_blank\" href=https://colab.research.google.com/notebooks/data_table.ipynb>data table notebook</a>'\n",
       "          + ' to learn more about interactive tables.';\n",
       "        element.innerHTML = '';\n",
       "        dataTable['output_type'] = 'display_data';\n",
       "        await google.colab.output.renderOutput(dataTable, element);\n",
       "        const docLink = document.createElement('div');\n",
       "        docLink.innerHTML = docLinkHtml;\n",
       "        element.appendChild(docLink);\n",
       "      }\n",
       "    </script>\n",
       "  </div>\n",
       "\n",
       "\n",
       "<div id=\"df-7f734834-156c-4d11-9c33-f821f0e82aa1\">\n",
       "  <button class=\"colab-df-quickchart\" onclick=\"quickchart('df-7f734834-156c-4d11-9c33-f821f0e82aa1')\"\n",
       "            title=\"Suggest charts.\"\n",
       "            style=\"display:none;\">\n",
       "\n",
       "<svg xmlns=\"http://www.w3.org/2000/svg\" height=\"24px\"viewBox=\"0 0 24 24\"\n",
       "     width=\"24px\">\n",
       "    <g>\n",
       "        <path d=\"M19 3H5c-1.1 0-2 .9-2 2v14c0 1.1.9 2 2 2h14c1.1 0 2-.9 2-2V5c0-1.1-.9-2-2-2zM9 17H7v-7h2v7zm4 0h-2V7h2v10zm4 0h-2v-4h2v4z\"/>\n",
       "    </g>\n",
       "</svg>\n",
       "  </button>\n",
       "\n",
       "<style>\n",
       "  .colab-df-quickchart {\n",
       "      --bg-color: #E8F0FE;\n",
       "      --fill-color: #1967D2;\n",
       "      --hover-bg-color: #E2EBFA;\n",
       "      --hover-fill-color: #174EA6;\n",
       "      --disabled-fill-color: #AAA;\n",
       "      --disabled-bg-color: #DDD;\n",
       "  }\n",
       "\n",
       "  [theme=dark] .colab-df-quickchart {\n",
       "      --bg-color: #3B4455;\n",
       "      --fill-color: #D2E3FC;\n",
       "      --hover-bg-color: #434B5C;\n",
       "      --hover-fill-color: #FFFFFF;\n",
       "      --disabled-bg-color: #3B4455;\n",
       "      --disabled-fill-color: #666;\n",
       "  }\n",
       "\n",
       "  .colab-df-quickchart {\n",
       "    background-color: var(--bg-color);\n",
       "    border: none;\n",
       "    border-radius: 50%;\n",
       "    cursor: pointer;\n",
       "    display: none;\n",
       "    fill: var(--fill-color);\n",
       "    height: 32px;\n",
       "    padding: 0;\n",
       "    width: 32px;\n",
       "  }\n",
       "\n",
       "  .colab-df-quickchart:hover {\n",
       "    background-color: var(--hover-bg-color);\n",
       "    box-shadow: 0 1px 2px rgba(60, 64, 67, 0.3), 0 1px 3px 1px rgba(60, 64, 67, 0.15);\n",
       "    fill: var(--button-hover-fill-color);\n",
       "  }\n",
       "\n",
       "  .colab-df-quickchart-complete:disabled,\n",
       "  .colab-df-quickchart-complete:disabled:hover {\n",
       "    background-color: var(--disabled-bg-color);\n",
       "    fill: var(--disabled-fill-color);\n",
       "    box-shadow: none;\n",
       "  }\n",
       "\n",
       "  .colab-df-spinner {\n",
       "    border: 2px solid var(--fill-color);\n",
       "    border-color: transparent;\n",
       "    border-bottom-color: var(--fill-color);\n",
       "    animation:\n",
       "      spin 1s steps(1) infinite;\n",
       "  }\n",
       "\n",
       "  @keyframes spin {\n",
       "    0% {\n",
       "      border-color: transparent;\n",
       "      border-bottom-color: var(--fill-color);\n",
       "      border-left-color: var(--fill-color);\n",
       "    }\n",
       "    20% {\n",
       "      border-color: transparent;\n",
       "      border-left-color: var(--fill-color);\n",
       "      border-top-color: var(--fill-color);\n",
       "    }\n",
       "    30% {\n",
       "      border-color: transparent;\n",
       "      border-left-color: var(--fill-color);\n",
       "      border-top-color: var(--fill-color);\n",
       "      border-right-color: var(--fill-color);\n",
       "    }\n",
       "    40% {\n",
       "      border-color: transparent;\n",
       "      border-right-color: var(--fill-color);\n",
       "      border-top-color: var(--fill-color);\n",
       "    }\n",
       "    60% {\n",
       "      border-color: transparent;\n",
       "      border-right-color: var(--fill-color);\n",
       "    }\n",
       "    80% {\n",
       "      border-color: transparent;\n",
       "      border-right-color: var(--fill-color);\n",
       "      border-bottom-color: var(--fill-color);\n",
       "    }\n",
       "    90% {\n",
       "      border-color: transparent;\n",
       "      border-bottom-color: var(--fill-color);\n",
       "    }\n",
       "  }\n",
       "</style>\n",
       "\n",
       "  <script>\n",
       "    async function quickchart(key) {\n",
       "      const quickchartButtonEl =\n",
       "        document.querySelector('#' + key + ' button');\n",
       "      quickchartButtonEl.disabled = true;  // To prevent multiple clicks.\n",
       "      quickchartButtonEl.classList.add('colab-df-spinner');\n",
       "      try {\n",
       "        const charts = await google.colab.kernel.invokeFunction(\n",
       "            'suggestCharts', [key], {});\n",
       "      } catch (error) {\n",
       "        console.error('Error during call to suggestCharts:', error);\n",
       "      }\n",
       "      quickchartButtonEl.classList.remove('colab-df-spinner');\n",
       "      quickchartButtonEl.classList.add('colab-df-quickchart-complete');\n",
       "    }\n",
       "    (() => {\n",
       "      let quickchartButtonEl =\n",
       "        document.querySelector('#df-7f734834-156c-4d11-9c33-f821f0e82aa1 button');\n",
       "      quickchartButtonEl.style.display =\n",
       "        google.colab.kernel.accessAllowed ? 'block' : 'none';\n",
       "    })();\n",
       "  </script>\n",
       "</div>\n",
       "    </div>\n",
       "  </div>\n"
      ],
      "text/plain": [
       "           Price  Date        Lat        Lng    Type  Floors    Building  \\\n",
       "72374   3250.000   372  56.282006  44.085056  Resale    14.0  Monolithic   \n",
       "72375   2824.800   371  56.348480  43.873340  Resale    17.0       Brick   \n",
       "72376   3316.125   371  56.300964  43.951468     New    25.0  Monolithic   \n",
       "72377  13600.000   371  56.329327  44.014997  Resale     5.0       Brick   \n",
       "72378   1490.000   372  56.323293  43.868697  Resale     2.0       Brick   \n",
       "\n",
       "       Rooms  Floor  Area  \n",
       "72374    1.0    1.0  44.7  \n",
       "72375    1.0    3.0  42.8  \n",
       "72376    2.0    5.0  55.5  \n",
       "72377    3.0    4.0  81.9  \n",
       "72378    2.0    2.0  46.0  "
      ]
     },
     "execution_count": 8,
     "metadata": {},
     "output_type": "execute_result"
    }
   ],
   "source": [
    "data_raw.tail()"
   ]
  },
  {
   "cell_type": "code",
   "execution_count": 9,
   "metadata": {
    "colab": {
     "base_uri": "https://localhost:8080/"
    },
    "id": "4EKO83jZvS2F",
    "outputId": "c810caa5-d7b2-4410-ec78-dd0f55b88d70"
   },
   "outputs": [
    {
     "name": "stdout",
     "output_type": "stream",
     "text": [
      "<class 'pandas.core.frame.DataFrame'>\n",
      "RangeIndex: 72379 entries, 0 to 72378\n",
      "Data columns (total 10 columns):\n",
      " #   Column    Non-Null Count  Dtype  \n",
      "---  ------    --------------  -----  \n",
      " 0   Price     72379 non-null  float64\n",
      " 1   Date      72379 non-null  int64  \n",
      " 2   Lat       72379 non-null  float64\n",
      " 3   Lng       72379 non-null  float64\n",
      " 4   Type      72362 non-null  object \n",
      " 5   Floors    72362 non-null  float64\n",
      " 6   Building  72362 non-null  object \n",
      " 7   Rooms     72362 non-null  float64\n",
      " 8   Floor     72362 non-null  float64\n",
      " 9   Area      72362 non-null  float64\n",
      "dtypes: float64(7), int64(1), object(2)\n",
      "memory usage: 5.5+ MB\n"
     ]
    }
   ],
   "source": [
    "data_raw.info()"
   ]
  },
  {
   "cell_type": "markdown",
   "metadata": {
    "id": "6TV_XcTci-Um"
   },
   "source": [
    "Мы видим, что столбцы (признаки) имеют имена\n",
    "\n",
    "- `Price` - цена (в тыс. руб.)\n",
    "- `Date` - номер дня, в который квартира была выставлена на продажу\n",
    "- `Lat` - географическая широта объекта\n",
    "- `Lng` - географическая долгота объекта\n",
    "- `Type` - тип продажи (`'Resale'` - вторичка, `'New'` - новостройка)\n",
    "- `Floors` - количество этажей в доме\n",
    "- `Building` - тип строения (`'Brick'`, `'Panel'`, `'Monolithic'`, `'Block'`, `'Wooden'`)\n",
    "- `Rooms` - количество комнат в квартире (0 - квартира-студия)\n",
    "- `Floor` - номер этажа\n",
    "- `Area` - общая площадь квартиры (в кв.м)\n",
    "\n",
    "Признак `Building` - номинальный (категориальный), `Type` - бинарный, остальные признаки (включая целевой признак `Price`) - количественный (числовой).\n",
    "\n",
    "Требуется предсказать количественный признак `Price` по остальным признакам. Это *задача восстановления регрессии*."
   ]
  },
  {
   "cell_type": "markdown",
   "metadata": {
    "id": "1hqyVWVKdZLC"
   },
   "source": [
    "Типы признаков:\n",
    "\n",
    "- Качественные (*категориальные*, *факторные*):\n",
    "  - Неупорядоченные (*номинальные*)\n",
    "  - Упорядоченные (*порядковые*)\n",
    "- Количественные (*числовые*):\n",
    "  - *Непрерывные*\n",
    "  - *Дискретные*\n",
    "\n",
    "*Бинарные* признаки (которые принимают только два значения) можно считать и номинальными, и порядковыми, и дискретными    "
   ]
  },
  {
   "cell_type": "markdown",
   "metadata": {
    "id": "iNJGX9Eyi-Un"
   },
   "source": [
    "Столбцы `'Building'` и `'Type'` содержат категориальные значения. Пока они имеют тип `'Object`'. Заменим тип на специальный, предназначенный для хранения категориальных значений:"
   ]
  },
  {
   "cell_type": "code",
   "execution_count": 10,
   "metadata": {
    "id": "MAEnf3wti-Up"
   },
   "outputs": [],
   "source": [
    "data_raw['Type'] = data_raw['Type'].astype('category')\n",
    "data_raw['Building'] = data_raw['Building'].astype('category')"
   ]
  },
  {
   "cell_type": "code",
   "execution_count": 11,
   "metadata": {
    "colab": {
     "base_uri": "https://localhost:8080/"
    },
    "id": "54InGuBDi-Up",
    "outputId": "68602f4e-b3db-4b4f-b62b-a04595f2d641"
   },
   "outputs": [
    {
     "data": {
      "text/plain": [
       "CategoricalDtype(categories=['New', 'Resale'], ordered=False)"
      ]
     },
     "execution_count": 11,
     "metadata": {},
     "output_type": "execute_result"
    }
   ],
   "source": [
    "data_raw['Type'].dtype"
   ]
  },
  {
   "cell_type": "code",
   "execution_count": 12,
   "metadata": {
    "colab": {
     "base_uri": "https://localhost:8080/"
    },
    "id": "U8cC9DUxUCCA",
    "outputId": "f3a97695-c261-4497-9b7e-0372a808a31a"
   },
   "outputs": [
    {
     "data": {
      "text/plain": [
       "CategoricalDtype(categories=['Block', 'Brick', 'Monolithic', 'Panel', 'Wooden'], ordered=False)"
      ]
     },
     "execution_count": 12,
     "metadata": {},
     "output_type": "execute_result"
    }
   ],
   "source": [
    "data_raw['Building'].dtype"
   ]
  },
  {
   "cell_type": "markdown",
   "metadata": {
    "id": "NWUNEeaa_ZnZ"
   },
   "source": [
    "Информация о числовых признаках:"
   ]
  },
  {
   "cell_type": "code",
   "execution_count": 13,
   "metadata": {
    "colab": {
     "base_uri": "https://localhost:8080/",
     "height": 300
    },
    "id": "o_Dm9Tklsx4m",
    "outputId": "91221a37-b2ea-4cb9-e76e-8b170f7d03d3"
   },
   "outputs": [
    {
     "data": {
      "text/html": [
       "\n",
       "  <div id=\"df-fabec1c4-0512-4e74-86dc-47e0e1714e67\" class=\"colab-df-container\">\n",
       "    <div>\n",
       "<style scoped>\n",
       "    .dataframe tbody tr th:only-of-type {\n",
       "        vertical-align: middle;\n",
       "    }\n",
       "\n",
       "    .dataframe tbody tr th {\n",
       "        vertical-align: top;\n",
       "    }\n",
       "\n",
       "    .dataframe thead th {\n",
       "        text-align: right;\n",
       "    }\n",
       "</style>\n",
       "<table border=\"1\" class=\"dataframe\">\n",
       "  <thead>\n",
       "    <tr style=\"text-align: right;\">\n",
       "      <th></th>\n",
       "      <th>Price</th>\n",
       "      <th>Date</th>\n",
       "      <th>Lat</th>\n",
       "      <th>Lng</th>\n",
       "      <th>Floors</th>\n",
       "      <th>Rooms</th>\n",
       "      <th>Floor</th>\n",
       "      <th>Area</th>\n",
       "    </tr>\n",
       "  </thead>\n",
       "  <tbody>\n",
       "    <tr>\n",
       "      <th>count</th>\n",
       "      <td>7.237900e+04</td>\n",
       "      <td>72379.000000</td>\n",
       "      <td>72379.000000</td>\n",
       "      <td>72379.000000</td>\n",
       "      <td>72362.000000</td>\n",
       "      <td>72362.000000</td>\n",
       "      <td>72362.000000</td>\n",
       "      <td>72362.000000</td>\n",
       "    </tr>\n",
       "    <tr>\n",
       "      <th>mean</th>\n",
       "      <td>3.441483e+03</td>\n",
       "      <td>264.179734</td>\n",
       "      <td>56.295150</td>\n",
       "      <td>43.935564</td>\n",
       "      <td>9.373967</td>\n",
       "      <td>1.952848</td>\n",
       "      <td>5.175728</td>\n",
       "      <td>53.323833</td>\n",
       "    </tr>\n",
       "    <tr>\n",
       "      <th>std</th>\n",
       "      <td>9.067804e+03</td>\n",
       "      <td>87.866132</td>\n",
       "      <td>0.045418</td>\n",
       "      <td>0.082768</td>\n",
       "      <td>5.139369</td>\n",
       "      <td>0.930402</td>\n",
       "      <td>3.884019</td>\n",
       "      <td>31.438198</td>\n",
       "    </tr>\n",
       "    <tr>\n",
       "      <th>min</th>\n",
       "      <td>1.000000e-03</td>\n",
       "      <td>56.000000</td>\n",
       "      <td>54.862751</td>\n",
       "      <td>41.806470</td>\n",
       "      <td>1.000000</td>\n",
       "      <td>0.000000</td>\n",
       "      <td>1.000000</td>\n",
       "      <td>1.000000</td>\n",
       "    </tr>\n",
       "    <tr>\n",
       "      <th>25%</th>\n",
       "      <td>2.200000e+03</td>\n",
       "      <td>189.000000</td>\n",
       "      <td>56.265067</td>\n",
       "      <td>43.868633</td>\n",
       "      <td>5.000000</td>\n",
       "      <td>1.000000</td>\n",
       "      <td>2.000000</td>\n",
       "      <td>37.000000</td>\n",
       "    </tr>\n",
       "    <tr>\n",
       "      <th>50%</th>\n",
       "      <td>2.850000e+03</td>\n",
       "      <td>294.000000</td>\n",
       "      <td>56.300760</td>\n",
       "      <td>43.932064</td>\n",
       "      <td>9.000000</td>\n",
       "      <td>2.000000</td>\n",
       "      <td>4.000000</td>\n",
       "      <td>46.000000</td>\n",
       "    </tr>\n",
       "    <tr>\n",
       "      <th>75%</th>\n",
       "      <td>3.860000e+03</td>\n",
       "      <td>344.000000</td>\n",
       "      <td>56.325305</td>\n",
       "      <td>44.005985</td>\n",
       "      <td>12.000000</td>\n",
       "      <td>3.000000</td>\n",
       "      <td>7.000000</td>\n",
       "      <td>63.000000</td>\n",
       "    </tr>\n",
       "    <tr>\n",
       "      <th>max</th>\n",
       "      <td>2.300000e+06</td>\n",
       "      <td>372.000000</td>\n",
       "      <td>57.127867</td>\n",
       "      <td>44.485489</td>\n",
       "      <td>25.000000</td>\n",
       "      <td>6.000000</td>\n",
       "      <td>25.000000</td>\n",
       "      <td>5039.000000</td>\n",
       "    </tr>\n",
       "  </tbody>\n",
       "</table>\n",
       "</div>\n",
       "    <div class=\"colab-df-buttons\">\n",
       "\n",
       "  <div class=\"colab-df-container\">\n",
       "    <button class=\"colab-df-convert\" onclick=\"convertToInteractive('df-fabec1c4-0512-4e74-86dc-47e0e1714e67')\"\n",
       "            title=\"Convert this dataframe to an interactive table.\"\n",
       "            style=\"display:none;\">\n",
       "\n",
       "  <svg xmlns=\"http://www.w3.org/2000/svg\" height=\"24px\" viewBox=\"0 -960 960 960\">\n",
       "    <path d=\"M120-120v-720h720v720H120Zm60-500h600v-160H180v160Zm220 220h160v-160H400v160Zm0 220h160v-160H400v160ZM180-400h160v-160H180v160Zm440 0h160v-160H620v160ZM180-180h160v-160H180v160Zm440 0h160v-160H620v160Z\"/>\n",
       "  </svg>\n",
       "    </button>\n",
       "\n",
       "  <style>\n",
       "    .colab-df-container {\n",
       "      display:flex;\n",
       "      gap: 12px;\n",
       "    }\n",
       "\n",
       "    .colab-df-convert {\n",
       "      background-color: #E8F0FE;\n",
       "      border: none;\n",
       "      border-radius: 50%;\n",
       "      cursor: pointer;\n",
       "      display: none;\n",
       "      fill: #1967D2;\n",
       "      height: 32px;\n",
       "      padding: 0 0 0 0;\n",
       "      width: 32px;\n",
       "    }\n",
       "\n",
       "    .colab-df-convert:hover {\n",
       "      background-color: #E2EBFA;\n",
       "      box-shadow: 0px 1px 2px rgba(60, 64, 67, 0.3), 0px 1px 3px 1px rgba(60, 64, 67, 0.15);\n",
       "      fill: #174EA6;\n",
       "    }\n",
       "\n",
       "    .colab-df-buttons div {\n",
       "      margin-bottom: 4px;\n",
       "    }\n",
       "\n",
       "    [theme=dark] .colab-df-convert {\n",
       "      background-color: #3B4455;\n",
       "      fill: #D2E3FC;\n",
       "    }\n",
       "\n",
       "    [theme=dark] .colab-df-convert:hover {\n",
       "      background-color: #434B5C;\n",
       "      box-shadow: 0px 1px 3px 1px rgba(0, 0, 0, 0.15);\n",
       "      filter: drop-shadow(0px 1px 2px rgba(0, 0, 0, 0.3));\n",
       "      fill: #FFFFFF;\n",
       "    }\n",
       "  </style>\n",
       "\n",
       "    <script>\n",
       "      const buttonEl =\n",
       "        document.querySelector('#df-fabec1c4-0512-4e74-86dc-47e0e1714e67 button.colab-df-convert');\n",
       "      buttonEl.style.display =\n",
       "        google.colab.kernel.accessAllowed ? 'block' : 'none';\n",
       "\n",
       "      async function convertToInteractive(key) {\n",
       "        const element = document.querySelector('#df-fabec1c4-0512-4e74-86dc-47e0e1714e67');\n",
       "        const dataTable =\n",
       "          await google.colab.kernel.invokeFunction('convertToInteractive',\n",
       "                                                    [key], {});\n",
       "        if (!dataTable) return;\n",
       "\n",
       "        const docLinkHtml = 'Like what you see? Visit the ' +\n",
       "          '<a target=\"_blank\" href=https://colab.research.google.com/notebooks/data_table.ipynb>data table notebook</a>'\n",
       "          + ' to learn more about interactive tables.';\n",
       "        element.innerHTML = '';\n",
       "        dataTable['output_type'] = 'display_data';\n",
       "        await google.colab.output.renderOutput(dataTable, element);\n",
       "        const docLink = document.createElement('div');\n",
       "        docLink.innerHTML = docLinkHtml;\n",
       "        element.appendChild(docLink);\n",
       "      }\n",
       "    </script>\n",
       "  </div>\n",
       "\n",
       "\n",
       "<div id=\"df-7413b52e-9e6a-43a2-8fa4-84c14e0fcec0\">\n",
       "  <button class=\"colab-df-quickchart\" onclick=\"quickchart('df-7413b52e-9e6a-43a2-8fa4-84c14e0fcec0')\"\n",
       "            title=\"Suggest charts.\"\n",
       "            style=\"display:none;\">\n",
       "\n",
       "<svg xmlns=\"http://www.w3.org/2000/svg\" height=\"24px\"viewBox=\"0 0 24 24\"\n",
       "     width=\"24px\">\n",
       "    <g>\n",
       "        <path d=\"M19 3H5c-1.1 0-2 .9-2 2v14c0 1.1.9 2 2 2h14c1.1 0 2-.9 2-2V5c0-1.1-.9-2-2-2zM9 17H7v-7h2v7zm4 0h-2V7h2v10zm4 0h-2v-4h2v4z\"/>\n",
       "    </g>\n",
       "</svg>\n",
       "  </button>\n",
       "\n",
       "<style>\n",
       "  .colab-df-quickchart {\n",
       "      --bg-color: #E8F0FE;\n",
       "      --fill-color: #1967D2;\n",
       "      --hover-bg-color: #E2EBFA;\n",
       "      --hover-fill-color: #174EA6;\n",
       "      --disabled-fill-color: #AAA;\n",
       "      --disabled-bg-color: #DDD;\n",
       "  }\n",
       "\n",
       "  [theme=dark] .colab-df-quickchart {\n",
       "      --bg-color: #3B4455;\n",
       "      --fill-color: #D2E3FC;\n",
       "      --hover-bg-color: #434B5C;\n",
       "      --hover-fill-color: #FFFFFF;\n",
       "      --disabled-bg-color: #3B4455;\n",
       "      --disabled-fill-color: #666;\n",
       "  }\n",
       "\n",
       "  .colab-df-quickchart {\n",
       "    background-color: var(--bg-color);\n",
       "    border: none;\n",
       "    border-radius: 50%;\n",
       "    cursor: pointer;\n",
       "    display: none;\n",
       "    fill: var(--fill-color);\n",
       "    height: 32px;\n",
       "    padding: 0;\n",
       "    width: 32px;\n",
       "  }\n",
       "\n",
       "  .colab-df-quickchart:hover {\n",
       "    background-color: var(--hover-bg-color);\n",
       "    box-shadow: 0 1px 2px rgba(60, 64, 67, 0.3), 0 1px 3px 1px rgba(60, 64, 67, 0.15);\n",
       "    fill: var(--button-hover-fill-color);\n",
       "  }\n",
       "\n",
       "  .colab-df-quickchart-complete:disabled,\n",
       "  .colab-df-quickchart-complete:disabled:hover {\n",
       "    background-color: var(--disabled-bg-color);\n",
       "    fill: var(--disabled-fill-color);\n",
       "    box-shadow: none;\n",
       "  }\n",
       "\n",
       "  .colab-df-spinner {\n",
       "    border: 2px solid var(--fill-color);\n",
       "    border-color: transparent;\n",
       "    border-bottom-color: var(--fill-color);\n",
       "    animation:\n",
       "      spin 1s steps(1) infinite;\n",
       "  }\n",
       "\n",
       "  @keyframes spin {\n",
       "    0% {\n",
       "      border-color: transparent;\n",
       "      border-bottom-color: var(--fill-color);\n",
       "      border-left-color: var(--fill-color);\n",
       "    }\n",
       "    20% {\n",
       "      border-color: transparent;\n",
       "      border-left-color: var(--fill-color);\n",
       "      border-top-color: var(--fill-color);\n",
       "    }\n",
       "    30% {\n",
       "      border-color: transparent;\n",
       "      border-left-color: var(--fill-color);\n",
       "      border-top-color: var(--fill-color);\n",
       "      border-right-color: var(--fill-color);\n",
       "    }\n",
       "    40% {\n",
       "      border-color: transparent;\n",
       "      border-right-color: var(--fill-color);\n",
       "      border-top-color: var(--fill-color);\n",
       "    }\n",
       "    60% {\n",
       "      border-color: transparent;\n",
       "      border-right-color: var(--fill-color);\n",
       "    }\n",
       "    80% {\n",
       "      border-color: transparent;\n",
       "      border-right-color: var(--fill-color);\n",
       "      border-bottom-color: var(--fill-color);\n",
       "    }\n",
       "    90% {\n",
       "      border-color: transparent;\n",
       "      border-bottom-color: var(--fill-color);\n",
       "    }\n",
       "  }\n",
       "</style>\n",
       "\n",
       "  <script>\n",
       "    async function quickchart(key) {\n",
       "      const quickchartButtonEl =\n",
       "        document.querySelector('#' + key + ' button');\n",
       "      quickchartButtonEl.disabled = true;  // To prevent multiple clicks.\n",
       "      quickchartButtonEl.classList.add('colab-df-spinner');\n",
       "      try {\n",
       "        const charts = await google.colab.kernel.invokeFunction(\n",
       "            'suggestCharts', [key], {});\n",
       "      } catch (error) {\n",
       "        console.error('Error during call to suggestCharts:', error);\n",
       "      }\n",
       "      quickchartButtonEl.classList.remove('colab-df-spinner');\n",
       "      quickchartButtonEl.classList.add('colab-df-quickchart-complete');\n",
       "    }\n",
       "    (() => {\n",
       "      let quickchartButtonEl =\n",
       "        document.querySelector('#df-7413b52e-9e6a-43a2-8fa4-84c14e0fcec0 button');\n",
       "      quickchartButtonEl.style.display =\n",
       "        google.colab.kernel.accessAllowed ? 'block' : 'none';\n",
       "    })();\n",
       "  </script>\n",
       "</div>\n",
       "    </div>\n",
       "  </div>\n"
      ],
      "text/plain": [
       "              Price          Date           Lat           Lng        Floors  \\\n",
       "count  7.237900e+04  72379.000000  72379.000000  72379.000000  72362.000000   \n",
       "mean   3.441483e+03    264.179734     56.295150     43.935564      9.373967   \n",
       "std    9.067804e+03     87.866132      0.045418      0.082768      5.139369   \n",
       "min    1.000000e-03     56.000000     54.862751     41.806470      1.000000   \n",
       "25%    2.200000e+03    189.000000     56.265067     43.868633      5.000000   \n",
       "50%    2.850000e+03    294.000000     56.300760     43.932064      9.000000   \n",
       "75%    3.860000e+03    344.000000     56.325305     44.005985     12.000000   \n",
       "max    2.300000e+06    372.000000     57.127867     44.485489     25.000000   \n",
       "\n",
       "              Rooms         Floor          Area  \n",
       "count  72362.000000  72362.000000  72362.000000  \n",
       "mean       1.952848      5.175728     53.323833  \n",
       "std        0.930402      3.884019     31.438198  \n",
       "min        0.000000      1.000000      1.000000  \n",
       "25%        1.000000      2.000000     37.000000  \n",
       "50%        2.000000      4.000000     46.000000  \n",
       "75%        3.000000      7.000000     63.000000  \n",
       "max        6.000000     25.000000   5039.000000  "
      ]
     },
     "execution_count": 13,
     "metadata": {},
     "output_type": "execute_result"
    }
   ],
   "source": [
    "data_raw.describe()"
   ]
  },
  {
   "cell_type": "markdown",
   "metadata": {
    "id": "TnzbweNN_fbG"
   },
   "source": [
    "Информация о категориальных признаках"
   ]
  },
  {
   "cell_type": "code",
   "execution_count": 14,
   "metadata": {
    "colab": {
     "base_uri": "https://localhost:8080/",
     "height": 175
    },
    "id": "ucaNvXnPs7Xh",
    "outputId": "b8d8c8d0-e15a-44cc-8332-1eb6b97d2e73"
   },
   "outputs": [
    {
     "data": {
      "text/html": [
       "\n",
       "  <div id=\"df-ed89f4bb-6f27-4346-bb35-968912b410ef\" class=\"colab-df-container\">\n",
       "    <div>\n",
       "<style scoped>\n",
       "    .dataframe tbody tr th:only-of-type {\n",
       "        vertical-align: middle;\n",
       "    }\n",
       "\n",
       "    .dataframe tbody tr th {\n",
       "        vertical-align: top;\n",
       "    }\n",
       "\n",
       "    .dataframe thead th {\n",
       "        text-align: right;\n",
       "    }\n",
       "</style>\n",
       "<table border=\"1\" class=\"dataframe\">\n",
       "  <thead>\n",
       "    <tr style=\"text-align: right;\">\n",
       "      <th></th>\n",
       "      <th>Type</th>\n",
       "      <th>Building</th>\n",
       "    </tr>\n",
       "  </thead>\n",
       "  <tbody>\n",
       "    <tr>\n",
       "      <th>count</th>\n",
       "      <td>72362</td>\n",
       "      <td>72362</td>\n",
       "    </tr>\n",
       "    <tr>\n",
       "      <th>unique</th>\n",
       "      <td>2</td>\n",
       "      <td>5</td>\n",
       "    </tr>\n",
       "    <tr>\n",
       "      <th>top</th>\n",
       "      <td>Resale</td>\n",
       "      <td>Brick</td>\n",
       "    </tr>\n",
       "    <tr>\n",
       "      <th>freq</th>\n",
       "      <td>64165</td>\n",
       "      <td>53263</td>\n",
       "    </tr>\n",
       "  </tbody>\n",
       "</table>\n",
       "</div>\n",
       "    <div class=\"colab-df-buttons\">\n",
       "\n",
       "  <div class=\"colab-df-container\">\n",
       "    <button class=\"colab-df-convert\" onclick=\"convertToInteractive('df-ed89f4bb-6f27-4346-bb35-968912b410ef')\"\n",
       "            title=\"Convert this dataframe to an interactive table.\"\n",
       "            style=\"display:none;\">\n",
       "\n",
       "  <svg xmlns=\"http://www.w3.org/2000/svg\" height=\"24px\" viewBox=\"0 -960 960 960\">\n",
       "    <path d=\"M120-120v-720h720v720H120Zm60-500h600v-160H180v160Zm220 220h160v-160H400v160Zm0 220h160v-160H400v160ZM180-400h160v-160H180v160Zm440 0h160v-160H620v160ZM180-180h160v-160H180v160Zm440 0h160v-160H620v160Z\"/>\n",
       "  </svg>\n",
       "    </button>\n",
       "\n",
       "  <style>\n",
       "    .colab-df-container {\n",
       "      display:flex;\n",
       "      gap: 12px;\n",
       "    }\n",
       "\n",
       "    .colab-df-convert {\n",
       "      background-color: #E8F0FE;\n",
       "      border: none;\n",
       "      border-radius: 50%;\n",
       "      cursor: pointer;\n",
       "      display: none;\n",
       "      fill: #1967D2;\n",
       "      height: 32px;\n",
       "      padding: 0 0 0 0;\n",
       "      width: 32px;\n",
       "    }\n",
       "\n",
       "    .colab-df-convert:hover {\n",
       "      background-color: #E2EBFA;\n",
       "      box-shadow: 0px 1px 2px rgba(60, 64, 67, 0.3), 0px 1px 3px 1px rgba(60, 64, 67, 0.15);\n",
       "      fill: #174EA6;\n",
       "    }\n",
       "\n",
       "    .colab-df-buttons div {\n",
       "      margin-bottom: 4px;\n",
       "    }\n",
       "\n",
       "    [theme=dark] .colab-df-convert {\n",
       "      background-color: #3B4455;\n",
       "      fill: #D2E3FC;\n",
       "    }\n",
       "\n",
       "    [theme=dark] .colab-df-convert:hover {\n",
       "      background-color: #434B5C;\n",
       "      box-shadow: 0px 1px 3px 1px rgba(0, 0, 0, 0.15);\n",
       "      filter: drop-shadow(0px 1px 2px rgba(0, 0, 0, 0.3));\n",
       "      fill: #FFFFFF;\n",
       "    }\n",
       "  </style>\n",
       "\n",
       "    <script>\n",
       "      const buttonEl =\n",
       "        document.querySelector('#df-ed89f4bb-6f27-4346-bb35-968912b410ef button.colab-df-convert');\n",
       "      buttonEl.style.display =\n",
       "        google.colab.kernel.accessAllowed ? 'block' : 'none';\n",
       "\n",
       "      async function convertToInteractive(key) {\n",
       "        const element = document.querySelector('#df-ed89f4bb-6f27-4346-bb35-968912b410ef');\n",
       "        const dataTable =\n",
       "          await google.colab.kernel.invokeFunction('convertToInteractive',\n",
       "                                                    [key], {});\n",
       "        if (!dataTable) return;\n",
       "\n",
       "        const docLinkHtml = 'Like what you see? Visit the ' +\n",
       "          '<a target=\"_blank\" href=https://colab.research.google.com/notebooks/data_table.ipynb>data table notebook</a>'\n",
       "          + ' to learn more about interactive tables.';\n",
       "        element.innerHTML = '';\n",
       "        dataTable['output_type'] = 'display_data';\n",
       "        await google.colab.output.renderOutput(dataTable, element);\n",
       "        const docLink = document.createElement('div');\n",
       "        docLink.innerHTML = docLinkHtml;\n",
       "        element.appendChild(docLink);\n",
       "      }\n",
       "    </script>\n",
       "  </div>\n",
       "\n",
       "\n",
       "<div id=\"df-cbaa86f9-d08a-48d3-8aa7-a660a355983c\">\n",
       "  <button class=\"colab-df-quickchart\" onclick=\"quickchart('df-cbaa86f9-d08a-48d3-8aa7-a660a355983c')\"\n",
       "            title=\"Suggest charts.\"\n",
       "            style=\"display:none;\">\n",
       "\n",
       "<svg xmlns=\"http://www.w3.org/2000/svg\" height=\"24px\"viewBox=\"0 0 24 24\"\n",
       "     width=\"24px\">\n",
       "    <g>\n",
       "        <path d=\"M19 3H5c-1.1 0-2 .9-2 2v14c0 1.1.9 2 2 2h14c1.1 0 2-.9 2-2V5c0-1.1-.9-2-2-2zM9 17H7v-7h2v7zm4 0h-2V7h2v10zm4 0h-2v-4h2v4z\"/>\n",
       "    </g>\n",
       "</svg>\n",
       "  </button>\n",
       "\n",
       "<style>\n",
       "  .colab-df-quickchart {\n",
       "      --bg-color: #E8F0FE;\n",
       "      --fill-color: #1967D2;\n",
       "      --hover-bg-color: #E2EBFA;\n",
       "      --hover-fill-color: #174EA6;\n",
       "      --disabled-fill-color: #AAA;\n",
       "      --disabled-bg-color: #DDD;\n",
       "  }\n",
       "\n",
       "  [theme=dark] .colab-df-quickchart {\n",
       "      --bg-color: #3B4455;\n",
       "      --fill-color: #D2E3FC;\n",
       "      --hover-bg-color: #434B5C;\n",
       "      --hover-fill-color: #FFFFFF;\n",
       "      --disabled-bg-color: #3B4455;\n",
       "      --disabled-fill-color: #666;\n",
       "  }\n",
       "\n",
       "  .colab-df-quickchart {\n",
       "    background-color: var(--bg-color);\n",
       "    border: none;\n",
       "    border-radius: 50%;\n",
       "    cursor: pointer;\n",
       "    display: none;\n",
       "    fill: var(--fill-color);\n",
       "    height: 32px;\n",
       "    padding: 0;\n",
       "    width: 32px;\n",
       "  }\n",
       "\n",
       "  .colab-df-quickchart:hover {\n",
       "    background-color: var(--hover-bg-color);\n",
       "    box-shadow: 0 1px 2px rgba(60, 64, 67, 0.3), 0 1px 3px 1px rgba(60, 64, 67, 0.15);\n",
       "    fill: var(--button-hover-fill-color);\n",
       "  }\n",
       "\n",
       "  .colab-df-quickchart-complete:disabled,\n",
       "  .colab-df-quickchart-complete:disabled:hover {\n",
       "    background-color: var(--disabled-bg-color);\n",
       "    fill: var(--disabled-fill-color);\n",
       "    box-shadow: none;\n",
       "  }\n",
       "\n",
       "  .colab-df-spinner {\n",
       "    border: 2px solid var(--fill-color);\n",
       "    border-color: transparent;\n",
       "    border-bottom-color: var(--fill-color);\n",
       "    animation:\n",
       "      spin 1s steps(1) infinite;\n",
       "  }\n",
       "\n",
       "  @keyframes spin {\n",
       "    0% {\n",
       "      border-color: transparent;\n",
       "      border-bottom-color: var(--fill-color);\n",
       "      border-left-color: var(--fill-color);\n",
       "    }\n",
       "    20% {\n",
       "      border-color: transparent;\n",
       "      border-left-color: var(--fill-color);\n",
       "      border-top-color: var(--fill-color);\n",
       "    }\n",
       "    30% {\n",
       "      border-color: transparent;\n",
       "      border-left-color: var(--fill-color);\n",
       "      border-top-color: var(--fill-color);\n",
       "      border-right-color: var(--fill-color);\n",
       "    }\n",
       "    40% {\n",
       "      border-color: transparent;\n",
       "      border-right-color: var(--fill-color);\n",
       "      border-top-color: var(--fill-color);\n",
       "    }\n",
       "    60% {\n",
       "      border-color: transparent;\n",
       "      border-right-color: var(--fill-color);\n",
       "    }\n",
       "    80% {\n",
       "      border-color: transparent;\n",
       "      border-right-color: var(--fill-color);\n",
       "      border-bottom-color: var(--fill-color);\n",
       "    }\n",
       "    90% {\n",
       "      border-color: transparent;\n",
       "      border-bottom-color: var(--fill-color);\n",
       "    }\n",
       "  }\n",
       "</style>\n",
       "\n",
       "  <script>\n",
       "    async function quickchart(key) {\n",
       "      const quickchartButtonEl =\n",
       "        document.querySelector('#' + key + ' button');\n",
       "      quickchartButtonEl.disabled = true;  // To prevent multiple clicks.\n",
       "      quickchartButtonEl.classList.add('colab-df-spinner');\n",
       "      try {\n",
       "        const charts = await google.colab.kernel.invokeFunction(\n",
       "            'suggestCharts', [key], {});\n",
       "      } catch (error) {\n",
       "        console.error('Error during call to suggestCharts:', error);\n",
       "      }\n",
       "      quickchartButtonEl.classList.remove('colab-df-spinner');\n",
       "      quickchartButtonEl.classList.add('colab-df-quickchart-complete');\n",
       "    }\n",
       "    (() => {\n",
       "      let quickchartButtonEl =\n",
       "        document.querySelector('#df-cbaa86f9-d08a-48d3-8aa7-a660a355983c button');\n",
       "      quickchartButtonEl.style.display =\n",
       "        google.colab.kernel.accessAllowed ? 'block' : 'none';\n",
       "    })();\n",
       "  </script>\n",
       "</div>\n",
       "    </div>\n",
       "  </div>\n"
      ],
      "text/plain": [
       "          Type Building\n",
       "count    72362    72362\n",
       "unique       2        5\n",
       "top     Resale    Brick\n",
       "freq     64165    53263"
      ]
     },
     "execution_count": 14,
     "metadata": {},
     "output_type": "execute_result"
    }
   ],
   "source": [
    "data_raw.describe(include=['category'])"
   ]
  },
  {
   "cell_type": "markdown",
   "metadata": {
    "id": "zK-kuewhi-Um"
   },
   "source": [
    "Имена столбцов (признаков) можно получить таким образом:"
   ]
  },
  {
   "cell_type": "code",
   "execution_count": 15,
   "metadata": {
    "colab": {
     "base_uri": "https://localhost:8080/"
    },
    "id": "l8CXTIaBi-Um",
    "outputId": "0217c6d4-905a-4db8-d279-83c28af7fdcd"
   },
   "outputs": [
    {
     "data": {
      "text/plain": [
       "Index(['Price', 'Date', 'Lat', 'Lng', 'Type', 'Floors', 'Building', 'Rooms',\n",
       "       'Floor', 'Area'],\n",
       "      dtype='object')"
      ]
     },
     "execution_count": 15,
     "metadata": {},
     "output_type": "execute_result"
    }
   ],
   "source": [
    "data_raw.columns"
   ]
  },
  {
   "cell_type": "markdown",
   "metadata": {
    "id": "9p7USETNi-Un"
   },
   "source": [
    "Имена строк (совпадают с номерами):"
   ]
  },
  {
   "cell_type": "code",
   "execution_count": 16,
   "metadata": {
    "colab": {
     "base_uri": "https://localhost:8080/"
    },
    "id": "YVFVstbDHxpD",
    "outputId": "8e0e6476-829c-4375-bafa-04745489c6fb"
   },
   "outputs": [
    {
     "data": {
      "text/plain": [
       "RangeIndex(start=0, stop=72379, step=1)"
      ]
     },
     "execution_count": 16,
     "metadata": {},
     "output_type": "execute_result"
    }
   ],
   "source": [
    "data_raw.index"
   ]
  },
  {
   "cell_type": "markdown",
   "metadata": {
    "id": "IJPMN92mvyV6"
   },
   "source": [
    "Столбцы `'Building'` и `'Type'` содержат категориальные значения. Пока они имеют тип `'Object`'. Заменим тип на специальный, предназначенный для хранения категориальных значений:"
   ]
  },
  {
   "cell_type": "code",
   "execution_count": 17,
   "metadata": {
    "colab": {
     "base_uri": "https://localhost:8080/"
    },
    "id": "oZX_anvXi-Uo",
    "outputId": "edd0c972-7139-4c0d-c203-bb0923ee34e8"
   },
   "outputs": [
    {
     "data": {
      "text/plain": [
       "0             Brick\n",
       "1             Brick\n",
       "2             Panel\n",
       "3             Panel\n",
       "4             Panel\n",
       "            ...    \n",
       "72374    Monolithic\n",
       "72375         Brick\n",
       "72376    Monolithic\n",
       "72377         Brick\n",
       "72378         Brick\n",
       "Name: Building, Length: 72379, dtype: category\n",
       "Categories (5, object): ['Block', 'Brick', 'Monolithic', 'Panel', 'Wooden']"
      ]
     },
     "execution_count": 17,
     "metadata": {},
     "output_type": "execute_result"
    }
   ],
   "source": [
    "data_raw['Building']"
   ]
  },
  {
   "cell_type": "markdown",
   "metadata": {
    "id": "Uw6FhXD0i-Uo"
   },
   "source": [
    "Pandas реализует 2 основных класса: `Series`, `DataFrame`"
   ]
  },
  {
   "cell_type": "code",
   "execution_count": 18,
   "metadata": {
    "colab": {
     "base_uri": "https://localhost:8080/"
    },
    "id": "vI-cASuZIEwz",
    "outputId": "0448f5ef-a46f-458d-9d5b-b2dc7b9d0249"
   },
   "outputs": [
    {
     "data": {
      "text/plain": [
       "CategoricalDtype(categories=['Block', 'Brick', 'Monolithic', 'Panel', 'Wooden'], ordered=False)"
      ]
     },
     "execution_count": 18,
     "metadata": {},
     "output_type": "execute_result"
    }
   ],
   "source": [
    "data_raw['Building'].dtype"
   ]
  },
  {
   "cell_type": "markdown",
   "metadata": {
    "id": "9ovPyFgjovwr"
   },
   "source": [
    "## Пропущенные значения:"
   ]
  },
  {
   "cell_type": "code",
   "execution_count": 19,
   "metadata": {
    "colab": {
     "base_uri": "https://localhost:8080/"
    },
    "id": "z8BQhIAARSyg",
    "outputId": "f7e50f7b-6332-4c5c-815a-6768c40f06df"
   },
   "outputs": [
    {
     "data": {
      "text/plain": [
       "Price        0\n",
       "Date         0\n",
       "Lat          0\n",
       "Lng          0\n",
       "Type        17\n",
       "Floors      17\n",
       "Building    17\n",
       "Rooms       17\n",
       "Floor       17\n",
       "Area        17\n",
       "dtype: int64"
      ]
     },
     "execution_count": 19,
     "metadata": {},
     "output_type": "execute_result"
    }
   ],
   "source": [
    "data_raw.isnull().sum()"
   ]
  },
  {
   "cell_type": "code",
   "execution_count": 20,
   "metadata": {
    "colab": {
     "base_uri": "https://localhost:8080/"
    },
    "id": "rJqxZw2DRzG2",
    "outputId": "31423326-72e2-4d97-a321-5fd89d3cda20"
   },
   "outputs": [
    {
     "data": {
      "text/plain": [
       "['Type', 'Floors', 'Building', 'Rooms', 'Floor', 'Area']"
      ]
     },
     "execution_count": 20,
     "metadata": {},
     "output_type": "execute_result"
    }
   ],
   "source": [
    "[feature for feature in data_raw.columns if data_raw[feature].isnull().sum() > 1]"
   ]
  },
  {
   "cell_type": "markdown",
   "metadata": {
    "id": "tRL6k1vguGWR"
   },
   "source": [
    "Строки с пропущенными значеними можно удалить (так как их немного):"
   ]
  },
  {
   "cell_type": "code",
   "execution_count": 21,
   "metadata": {
    "id": "p4dyJRMaty2W"
   },
   "outputs": [],
   "source": [
    "#data_raw = data_raw.dropna()"
   ]
  },
  {
   "cell_type": "markdown",
   "metadata": {
    "id": "rY-0ueIkpWH6"
   },
   "source": [
    "Мы потом будем использовать чуть более продвинутый метод."
   ]
  },
  {
   "cell_type": "code",
   "execution_count": 21,
   "metadata": {
    "id": "99nmLWABwKky"
   },
   "outputs": [],
   "source": []
  },
  {
   "cell_type": "markdown",
   "metadata": {
    "id": "ZNfT6TTqi-Uv"
   },
   "source": [
    "## 2. Визуализируем, анализируем, боремся с выбросами (outliers)\n",
    "\n",
    "Понятно, что цена квартиры в первую очередь зависит от ее площади.\n",
    "Построим поэтому диаграмму рассеивания для двух признаков: `Price` и `Area`.\n"
   ]
  },
  {
   "cell_type": "code",
   "execution_count": 22,
   "metadata": {
    "colab": {
     "base_uri": "https://localhost:8080/",
     "height": 465
    },
    "id": "jRIbj5lHi-Uv",
    "outputId": "10cdbe82-92a4-4bdd-b04b-7e31c267441b"
   },
   "outputs": [
    {
     "data": {
      "image/png": "[encoded data removed]",
      "text/plain": [
       "<Figure size 640x480 with 1 Axes>"
      ]
     },
     "metadata": {},
     "output_type": "display_data"
    }
   ],
   "source": [
    "data_raw.plot(kind='scatter', x='Area', y='Price')\n",
    "pass"
   ]
  },
  {
   "cell_type": "markdown",
   "metadata": {
    "id": "SldJwPmhkiTj"
   },
   "source": [
    "Можно вот так:"
   ]
  },
  {
   "cell_type": "code",
   "execution_count": 23,
   "metadata": {
    "colab": {
     "base_uri": "https://localhost:8080/",
     "height": 465
    },
    "id": "CcAqgkWfkhA0",
    "outputId": "fe64a2ef-629f-4219-802e-86b678599eb0"
   },
   "outputs": [
    {
     "data": {
      "image/png": "[encoded data removed]",
      "text/plain": [
       "<Figure size 640x480 with 1 Axes>"
      ]
     },
     "metadata": {},
     "output_type": "display_data"
    }
   ],
   "source": [
    "plt.scatter(data_raw['Area'], data_raw['Price'])\n",
    "plt.xlabel('Area')\n",
    "plt.ylabel('Price')\n",
    "pass"
   ]
  },
  {
   "cell_type": "markdown",
   "metadata": {
    "id": "jqMX3sQoi-Uw"
   },
   "source": [
    "Все диаграммы рассеивания:"
   ]
  },
  {
   "cell_type": "code",
   "execution_count": null,
   "metadata": {
    "id": "VPRHBuPJ5w8p"
   },
   "outputs": [],
   "source": [
    "pd.plotting.scatter_matrix(data_raw, figsize = (10, 8))\n",
    "pass"
   ]
  },
  {
   "cell_type": "code",
   "execution_count": null,
   "metadata": {
    "id": "96dFrJpm1VBi"
   },
   "outputs": [],
   "source": [
    "data_raw[data_raw['Price'] > 50000]"
   ]
  },
  {
   "cell_type": "code",
   "execution_count": null,
   "metadata": {
    "id": "XuY2ExHM162B"
   },
   "outputs": [],
   "source": [
    "data_raw[data_raw['Area'] > 300]"
   ]
  },
  {
   "cell_type": "markdown",
   "metadata": {
    "id": "3R-FwQ7mi-Uw"
   },
   "source": [
    "Мы видим, что на диаграмме рассеивания `Price`-`Area` основная масса точек сгрудилась в левом нижнем углу. Какие-то точки соответствуют квартирам с чрезмерно большими значениями цены или площади. Например, более $2$ млрд. руб. или $5$ тыс м. Это *выбросы* (*outliers*) - объекты, значения признаков которых сильно отличаются от признаков основной массы объектов, сильно выпадающих из общей картины. Возможно, это ошибки в данных. В любом случае выбросы, как правило, мешают построить хорошее решающее правило и их рекомендуется выбрасывать.\n",
    "\n",
    "Для обнаружения выбросов найдем, например, квантили для признаков `Price` и `Area`:"
   ]
  },
  {
   "cell_type": "code",
   "execution_count": null,
   "metadata": {
    "id": "Jm_5xEHqhOqo"
   },
   "outputs": [],
   "source": [
    "data_raw['Price'].plot(kind='box')\n",
    "pass"
   ]
  },
  {
   "cell_type": "code",
   "execution_count": null,
   "metadata": {
    "id": "hZL8pPoRhatL"
   },
   "outputs": [],
   "source": [
    "data_raw['Area'].plot(kind='box')\n",
    "pass"
   ]
  },
  {
   "cell_type": "code",
   "execution_count": null,
   "metadata": {
    "id": "8S4yYJ3QwLN9"
   },
   "outputs": [],
   "source": [
    "data_raw['Price'].quantile([0.005,.01,.05,.1,.5,.9,.95,.99,.995])"
   ]
  },
  {
   "cell_type": "markdown",
   "metadata": {
    "id": "_OFhYNQcwLN9"
   },
   "source": [
    "Мы видим, например, что $99\\%$ всех значений признака `'Price'` находится в диапазоне от $800$ до $14900$ тыс. руб. (это значения квантилей, соответствующих уровням $0.005$ и $0.995$ соответственно)"
   ]
  },
  {
   "cell_type": "code",
   "execution_count": null,
   "metadata": {
    "id": "tKyC_Jxui-Uw"
   },
   "outputs": [],
   "source": [
    "data_raw['Area'].quantile([0.005,.01,.05,.1,.5,.9,.95,.99,.995])"
   ]
  },
  {
   "cell_type": "markdown",
   "metadata": {
    "id": "jnbgxwzCwLN9"
   },
   "source": [
    "$99\\%$ всех значений `'Area'` находится в диапазоне от $18$ до $162$ кв. м."
   ]
  },
  {
   "cell_type": "markdown",
   "metadata": {
    "id": "KBrfMLLhwLN-"
   },
   "source": [
    "Удалим все строки таблицы, в которых `'Price'` или `'Area'` выходят за пределы квантилей $0.005$, $0.995$."
   ]
  },
  {
   "cell_type": "code",
   "execution_count": null,
   "metadata": {
    "id": "Wwc05jwiwLN-"
   },
   "outputs": [],
   "source": [
    "rows_to_drop = data_raw[\n",
    "    (data_raw['Price'] < data_raw['Price'].quantile(0.005)) | (data_raw['Price'] > data_raw['Price'].quantile(0.995)) |\n",
    "    (data_raw['Area']  < data_raw['Area' ].quantile(0.005)) | (data_raw['Area']  > data_raw['Area' ].quantile(0.995))].index\n",
    "data = data_raw.drop(rows_to_drop)\n",
    "data.shape"
   ]
  },
  {
   "cell_type": "code",
   "execution_count": null,
   "metadata": {
    "id": "xAfbX44Hi-Ux"
   },
   "outputs": [],
   "source": [
    "#Другой способ:\n",
    "data = data_raw[\n",
    "    (data_raw['Price'] >= data_raw['Price'].quantile(0.005)) & (data_raw['Price'] <= data_raw['Price'].quantile(0.995)) &\n",
    "    (data_raw['Area']  >= data_raw['Area' ].quantile(0.005)) & (data_raw['Area']  <= data_raw['Area' ].quantile(0.995))]\n",
    "data.shape"
   ]
  },
  {
   "cell_type": "code",
   "execution_count": null,
   "metadata": {
    "id": "nHcJ8z_aeJKj"
   },
   "outputs": [],
   "source": [
    "data['Price'].plot(kind='box')\n",
    "pass"
   ]
  },
  {
   "cell_type": "code",
   "execution_count": null,
   "metadata": {
    "id": "pMZSEjxleR4D"
   },
   "outputs": [],
   "source": [
    "data['Area'].plot(kind='box')\n",
    "pass"
   ]
  },
  {
   "cell_type": "markdown",
   "metadata": {
    "id": "y8SM9xLNu__b"
   },
   "source": [
    "Другой способ обнаружения выбросов. Можно воспользоваться эвристическим правилом, что все примеры за границами интервала $[Q_1-1.5\\cdot{\\rm IQR},\\, Q_3+1.5\\cdot{\\rm IQR}]$ являются выбросами."
   ]
  },
  {
   "cell_type": "code",
   "execution_count": null,
   "metadata": {
    "id": "56V3LPUVwJQ2"
   },
   "outputs": [],
   "source": [
    "Q1, Q3 = data_raw['Price'].quantile([.25, .75])\n",
    "IQR = Q3 - Q1\n",
    "price_lower = Q1 - 1.5*IQR\n",
    "price_upper = Q3 + 1.5*IQR"
   ]
  },
  {
   "cell_type": "code",
   "execution_count": null,
   "metadata": {
    "id": "_06C4WInxlIw"
   },
   "outputs": [],
   "source": [
    "Q1, Q3 = data_raw['Area'].quantile([.25, .75])\n",
    "IQR = Q3 - Q1\n",
    "area_lower = Q1 - 1.5*IQR\n",
    "area_upper = Q3 + 1.5*IQR"
   ]
  },
  {
   "cell_type": "code",
   "execution_count": null,
   "metadata": {
    "id": "HlbfPozEwJy9"
   },
   "outputs": [],
   "source": [
    "rows_to_drop = data_raw[\n",
    "    (data_raw['Price'] < price_lower) | (data_raw['Price'] > price_upper) |\n",
    "    (data_raw['Area']  < area_lower)  | (data_raw['Area']  > area_upper)].index\n",
    "data = data_raw.drop(rows_to_drop)\n",
    "data.shape\n"
   ]
  },
  {
   "cell_type": "code",
   "execution_count": null,
   "metadata": {
    "id": "YoShhdUjy99d"
   },
   "outputs": [],
   "source": [
    "data['Price'].plot(kind='box')\n",
    "pass"
   ]
  },
  {
   "cell_type": "code",
   "execution_count": null,
   "metadata": {
    "id": "0C58PAGxy99e"
   },
   "outputs": [],
   "source": [
    "data['Area'].plot(kind='box')\n",
    "pass"
   ]
  },
  {
   "cell_type": "code",
   "execution_count": null,
   "metadata": {
    "id": "yNzrVa3Vi-Uy",
    "scrolled": true
   },
   "outputs": [],
   "source": [
    "data.describe()"
   ]
  },
  {
   "cell_type": "code",
   "execution_count": null,
   "metadata": {
    "id": "na0Zi-Hwi-Uy"
   },
   "outputs": [],
   "source": [
    "data.describe(include=['category'])"
   ]
  },
  {
   "cell_type": "code",
   "execution_count": null,
   "metadata": {
    "id": "anEsLAtTi-Ux"
   },
   "outputs": [],
   "source": [
    "data.plot(kind = 'scatter', x = 'Area', y = 'Price', alpha=.01)\n",
    "pass"
   ]
  },
  {
   "cell_type": "code",
   "execution_count": null,
   "metadata": {
    "id": "hUKaFG-Bi-Ux"
   },
   "outputs": [],
   "source": [
    "data.plot(kind = 'scatter', x = 'Rooms', y = 'Price', alpha=0.02)\n",
    "pass"
   ]
  },
  {
   "cell_type": "code",
   "execution_count": null,
   "metadata": {
    "id": "o_lvVABti-Uy"
   },
   "outputs": [],
   "source": [
    "data.plot(kind = 'scatter', x = 'Lng', y = 'Lat', alpha=0.05)\n",
    "#plt.scatter(data['Lng'], data['Lat'], alpha=0.01)\n",
    "plt.xlim([43.7, 44.1])\n",
    "plt.ylim([56.2, 56.4])\n",
    "pass"
   ]
  },
  {
   "cell_type": "markdown",
   "metadata": {
    "id": "XkMAQxvIi-Uz"
   },
   "source": [
    "Интересно посмотреть, сколько раз номинальные переменные принимают то или иное значение"
   ]
  },
  {
   "cell_type": "code",
   "execution_count": null,
   "metadata": {
    "id": "irH1vQApi-Uz"
   },
   "outputs": [],
   "source": [
    "data['Type'].value_counts()"
   ]
  },
  {
   "cell_type": "code",
   "execution_count": null,
   "metadata": {
    "id": "u6beBdb6i-Uz"
   },
   "outputs": [],
   "source": [
    "sns.countplot(x='Type', data=data)\n",
    "pass"
   ]
  },
  {
   "cell_type": "code",
   "execution_count": null,
   "metadata": {
    "id": "NH5EqkO0i-Uz"
   },
   "outputs": [],
   "source": [
    "data['Building'].value_counts().index"
   ]
  },
  {
   "cell_type": "code",
   "execution_count": null,
   "metadata": {
    "id": "eo_YJbn7qMtk"
   },
   "outputs": [],
   "source": [
    "sns.countplot(x='Building', data=data)\n",
    "pass"
   ]
  },
  {
   "cell_type": "code",
   "execution_count": null,
   "metadata": {
    "id": "oIUWEmU8i-Uz"
   },
   "outputs": [],
   "source": [
    "sns.countplot(x='Building', order=data['Building'].value_counts().index, data=data)\n",
    "pass"
   ]
  },
  {
   "cell_type": "code",
   "execution_count": null,
   "metadata": {
    "id": "NjZ59Jdii-Uz"
   },
   "outputs": [],
   "source": [
    "sns.countplot(x='Building', order=data['Building'].value_counts().index, hue='Type', data=data)\n",
    "pass"
   ]
  },
  {
   "cell_type": "code",
   "execution_count": null,
   "metadata": {
    "id": "bZoGyldDfXFt"
   },
   "outputs": [],
   "source": [
    "sns.countplot(x='Type', hue='Building', data=data)\n",
    "pass"
   ]
  },
  {
   "cell_type": "markdown",
   "metadata": {
    "id": "nJ-gUubCi-U1"
   },
   "source": [
    "Для отрисовки диаграммы рассеивания мы можем воспользоваться более продвинутой функцией `scatterplot` из модуля `seaborn`. Например, в следующей диаграмме цвет маркеров соответствует типу строения `'Building'`, а размер - количеству комнат `'Rooms'`:"
   ]
  },
  {
   "cell_type": "code",
   "execution_count": null,
   "metadata": {
    "id": "Zlt-TNlAi-U1"
   },
   "outputs": [],
   "source": [
    "plt.figure(figsize = (10, 8))\n",
    "sns.scatterplot(x='Area', y='Price', size='Rooms', hue='Building', data=data, alpha=0.1)\n",
    "pass"
   ]
  },
  {
   "cell_type": "code",
   "execution_count": null,
   "metadata": {
    "id": "GMFjjzpXmPhQ"
   },
   "outputs": [],
   "source": [
    "plt.figure(figsize = (10, 8))\n",
    "sns.scatterplot(x='Lng', y='Lat', hue='Price', data=data, alpha=0.5)\n",
    "plt.xlim([43.7, 44.1])\n",
    "plt.ylim([56.2, 56.4])\n",
    "pass"
   ]
  },
  {
   "cell_type": "markdown",
   "metadata": {
    "id": "RGYv2nN_i-U1"
   },
   "source": [
    "Мы видим, что наблюдается ожидаемая корреляция между количеством комнат и площадью квартиры. Также можно увидеть, что квартиры в панельных домах, как правило, имеют умеренные размеры и умеренные цены. Квартиры в монолитных домах, как правило, больше и дороже. Кирпичные дома бываю в разной ценовой категории, но самые большие и дорогие квартиры - в основном в кирпичных домах."
   ]
  },
  {
   "cell_type": "markdown",
   "metadata": {
    "id": "JDKeSLs-i-U1"
   },
   "source": [
    "Построим все возможные диаграммы рассеивания для каждой пары переменных:"
   ]
  },
  {
   "cell_type": "code",
   "execution_count": null,
   "metadata": {
    "id": "iuvzwfKYi-U2"
   },
   "outputs": [],
   "source": [
    "sns.pairplot(data.sample(1000), hue='Building', diag_kind='hist')\n",
    "pass"
   ]
  },
  {
   "cell_type": "markdown",
   "metadata": {
    "id": "pKa0ILjpi-U2"
   },
   "source": [
    "На диаграммах, в частности, наблюдается попарная корреляция между `Price`, `Area` и `Rooms`.\n",
    "\n",
    "На диагонали расположены гистограммы распределения признаков. Гистограммы можно построить отдельно."
   ]
  },
  {
   "cell_type": "markdown",
   "metadata": {
    "id": "k63cHQ6Li-U2"
   },
   "source": [
    "Построить гистограмму можно с помощю функции `plt.hist` или `pd.hist`, но мы воспользуемся `displot` из библиотеки `seaborn`."
   ]
  },
  {
   "cell_type": "code",
   "execution_count": null,
   "metadata": {
    "id": "7xQuGThPi-U2"
   },
   "outputs": [],
   "source": [
    "sns.displot(data['Price'], bins=15, kde=True)\n",
    "plt.grid()\n",
    "pass"
   ]
  },
  {
   "cell_type": "markdown",
   "metadata": {
    "id": "aieUfPtli-U2"
   },
   "source": [
    "Можно представить вместе и диаграмму рассеивания для пары признаков и соответствующие гистограммы:"
   ]
  },
  {
   "cell_type": "code",
   "execution_count": null,
   "metadata": {
    "id": "CEf23sYUi-U2"
   },
   "outputs": [],
   "source": [
    "sns.jointplot(x='Area', y='Price', alpha=.05, data=data)\n",
    "pass"
   ]
  },
  {
   "cell_type": "code",
   "execution_count": null,
   "metadata": {
    "id": "fT-1Hb8gi-U2"
   },
   "outputs": [],
   "source": [
    "sns.displot(data['Area'], bins = 20, kde=True)\n",
    "pass"
   ]
  },
  {
   "cell_type": "code",
   "execution_count": null,
   "metadata": {
    "id": "8FgBAGO3i-U3"
   },
   "outputs": [],
   "source": [
    "sns.displot(data['Date'], bins = 15, kde=True)\n",
    "pass"
   ]
  },
  {
   "cell_type": "markdown",
   "metadata": {
    "id": "g8zbaZXgi-U3"
   },
   "source": [
    "*Ящик с усами* (*бокс-диаграмма*) - это один из возможных способов визуального представления распределения. Нижний и верхний концы ящика соответствуют 1-му и 3-му квартилям (25% и 75% квантилям соответственно), а горизонтальная линия внутри ящика - медиане. Верхний ус продолжается вверх вплоть до максимального значения, но не выше 1.5 межквартильного расстояния от верхней кромки ящика. Аналогично нижний ус - продолжается вниз до минимального значения, но не ниже 1.5 межквартильных расстояний от нижней кромки ящика. На концах усов ставятся небольшие зарубки. За пределами усов значения изображаются в виде отдельных точек - эти значения можно считать выбросами."
   ]
  },
  {
   "cell_type": "code",
   "execution_count": null,
   "metadata": {
    "id": "w0Ck5UmLi-U3"
   },
   "outputs": [],
   "source": [
    "sns.boxplot(x=\"Building\", y=\"Price\", data=data)\n",
    "pass"
   ]
  },
  {
   "cell_type": "code",
   "execution_count": null,
   "metadata": {
    "id": "TqpsJ4PPi-U3"
   },
   "outputs": [],
   "source": [
    "sns.boxplot(x=\"Building\", y=\"Area\", hue=\"Type\", data=data)\n",
    "pass"
   ]
  },
  {
   "cell_type": "markdown",
   "metadata": {
    "id": "l-5VPGe1i-U3"
   },
   "source": [
    "Также информацию о характере распределения можно получить из *скрипичных графиков* (violin plots). В этом случае изображают графики аппроксимации плотности вероятности."
   ]
  },
  {
   "cell_type": "code",
   "execution_count": null,
   "metadata": {
    "id": "rFKmVTiQi-U3"
   },
   "outputs": [],
   "source": [
    "sns.violinplot(x=\"Building\", y=\"Price\", data=data)\n",
    "pass"
   ]
  },
  {
   "cell_type": "code",
   "execution_count": null,
   "metadata": {
    "id": "RCD82V2Qi-U3"
   },
   "outputs": [],
   "source": [
    "sns.violinplot(x=\"Building\", y=\"Price\", hue=\"Type\", split=True, data=data)\n",
    "pass"
   ]
  },
  {
   "cell_type": "markdown",
   "metadata": {
    "id": "qA7LMpR_i-U4"
   },
   "source": [
    "Можно вычислить матрицу корреляции для количественных признаков:"
   ]
  },
  {
   "cell_type": "code",
   "execution_count": null,
   "metadata": {
    "id": "vLXQhQy9i-U4"
   },
   "outputs": [],
   "source": [
    "corr_mat = data.corr(numeric_only=True)\n",
    "corr_mat"
   ]
  },
  {
   "cell_type": "markdown",
   "metadata": {
    "id": "CdOmI-sQi-U4"
   },
   "source": [
    "Удобно использовать визуальный образ этой матрицы. Чем светлее ячейка, тем больше по абсолютной величине коэффициент корреляции:"
   ]
  },
  {
   "cell_type": "code",
   "execution_count": null,
   "metadata": {
    "id": "MlDaGtkCi-U4"
   },
   "outputs": [],
   "source": [
    "sns.heatmap(corr_mat, square=True, vmin=-1, vmax=1, cmap='coolwarm')\n",
    "pass"
   ]
  },
  {
   "cell_type": "code",
   "execution_count": null,
   "metadata": {
    "id": "QU0oioy2MVsk"
   },
   "outputs": [],
   "source": [
    "sns.heatmap(corr_mat, square=True, annot=True, fmt='.2f', vmin=-1, vmax=1, cmap='coolwarm')\n",
    "pass"
   ]
  },
  {
   "cell_type": "markdown",
   "metadata": {
    "id": "WV7OcHpAi-U4"
   },
   "source": [
    "Выведем коэффициенты корреляции, большие заданного значения:"
   ]
  },
  {
   "cell_type": "code",
   "execution_count": null,
   "metadata": {
    "id": "jsC4Fihai-U4"
   },
   "outputs": [],
   "source": [
    "corr_mat > 0.5"
   ]
  },
  {
   "cell_type": "code",
   "execution_count": null,
   "metadata": {
    "id": "YreEg4xWi-U4"
   },
   "outputs": [],
   "source": [
    "np.triu(corr_mat, k=1)"
   ]
  },
  {
   "cell_type": "code",
   "execution_count": null,
   "metadata": {
    "id": "lwhh2fuci-U5"
   },
   "outputs": [],
   "source": [
    "corr_mat.where(np.triu(corr_mat > 0.5, k=1)).stack()"
   ]
  },
  {
   "cell_type": "code",
   "execution_count": null,
   "metadata": {
    "id": "WLA2mH50i-U5"
   },
   "outputs": [],
   "source": [
    "corr_mat.where(np.triu(np.abs(corr_mat) > 0.5, k=1)).stack().sort_values(ascending=False)"
   ]
  },
  {
   "cell_type": "markdown",
   "metadata": {
    "id": "SK5aGXKRi-U5"
   },
   "source": [
    "Достаточно большие значения этих коэффициентов вполне объяснимы.\n",
    "\n",
    "Обратите внимание на небольшую корреляцию между ценой квартиры и географическими координатами (квартиры в нагорной части и особенно в нижегородском районе - дороже):"
   ]
  },
  {
   "cell_type": "code",
   "execution_count": null,
   "metadata": {
    "id": "UVnDa8nLi-U5"
   },
   "outputs": [],
   "source": [
    "corr_mat.loc['Price', 'Lng'], corr_mat.loc['Price', 'Lat']"
   ]
  },
  {
   "cell_type": "markdown",
   "metadata": {
    "id": "N0ys68uAi-U5"
   },
   "source": [
    "Также обратите внимание, что коэффициент корреляции между `'Price'`, `'Date'` практически равен нулю"
   ]
  },
  {
   "cell_type": "code",
   "execution_count": null,
   "metadata": {
    "id": "7eZefdEzi-U5"
   },
   "outputs": [],
   "source": [
    "corr_mat.loc['Price', 'Date']"
   ]
  },
  {
   "cell_type": "markdown",
   "metadata": {
    "id": "gVBgqYVDi-U6"
   },
   "source": [
    "Например, выберем все данные, соответствующие квартирам в деревянных строениях ценой больше 3 млн. и выше:"
   ]
  },
  {
   "cell_type": "code",
   "execution_count": null,
   "metadata": {
    "id": "MiB9yPxei-U6"
   },
   "outputs": [],
   "source": [
    "data.loc[(data['Building']=='Wooden') & (data['Price'] >= 3000), :]"
   ]
  },
  {
   "cell_type": "markdown",
   "metadata": {
    "id": "dce-ZHx7i-U6"
   },
   "source": [
    "Или все данные, соответствующие продажам в деревянных новостройках:"
   ]
  },
  {
   "cell_type": "code",
   "execution_count": null,
   "metadata": {
    "id": "2pES_CJGi-U6"
   },
   "outputs": [],
   "source": [
    "data.loc[(data['Building']=='Wooden') & (data['Type']=='New'), :]"
   ]
  },
  {
   "cell_type": "markdown",
   "metadata": {
    "id": "92Z_FbORi-U6"
   },
   "source": [
    "Значения, которые принимают категориальные признаки, можно получить следующим образом:"
   ]
  },
  {
   "cell_type": "code",
   "execution_count": null,
   "metadata": {
    "id": "YqnIs4Mui-U6"
   },
   "outputs": [],
   "source": [
    "data['Type'].unique()"
   ]
  },
  {
   "cell_type": "code",
   "execution_count": null,
   "metadata": {
    "id": "iL6XElfQi-U6"
   },
   "outputs": [],
   "source": [
    "data['Building'].unique()"
   ]
  },
  {
   "cell_type": "code",
   "execution_count": null,
   "metadata": {
    "id": "-O5us2Z8OS_A"
   },
   "outputs": [],
   "source": []
  },
  {
   "cell_type": "markdown",
   "metadata": {
    "id": "y-lTJFYFaU8d"
   },
   "source": [
    "## 2. Борьба с выбросами\n",
    "\n"
   ]
  },
  {
   "cell_type": "code",
   "execution_count": null,
   "metadata": {
    "id": "Yy0GCAPni-Uw"
   },
   "outputs": [],
   "source": [
    "data_raw.quantile([0.005,.01,.05,.1,.5,.9,.95,.99,.995], numeric_only=True)"
   ]
  },
  {
   "cell_type": "markdown",
   "metadata": {
    "id": "ePdKPdO9i-Uw"
   },
   "source": [
    "Мы видим, например, что $99\\%$ всех значений признака `'Price'` находится в диапазоне от $800$ до $14967$ тыс. руб. (это значения квантилей, соответствующих уровням $0.005$ и $0.995$ соответственно)"
   ]
  },
  {
   "cell_type": "markdown",
   "metadata": {
    "id": "xO0FnbMji-Ux"
   },
   "source": [
    "$99\\%$ всех значений `'Area'` находится в диапазоне от $18$ до $162$ кв. м."
   ]
  },
  {
   "cell_type": "markdown",
   "metadata": {
    "id": "DD4eYX2Hi-Ux"
   },
   "source": [
    "Удалим все строки таблицы, в которых `'Price'` или `'Area'` выходят за пределы квантилей $0.005$, $0.995$."
   ]
  },
  {
   "cell_type": "code",
   "execution_count": null,
   "metadata": {
    "id": "yY_sjrpzi-Ux"
   },
   "outputs": [],
   "source": [
    "rows_to_drop = data_raw[\n",
    "    (data_raw['Price'] < data_raw['Price'].quantile(0.005)) | (data_raw['Price'] > data_raw['Price'].quantile(0.995)) |\n",
    "    (data_raw['Area'] < data_raw['Area'].quantile(0.005)) | (data_raw['Area'] > data_raw['Area'].quantile(0.995))].index\n",
    "data_raw = data_raw.drop(rows_to_drop)"
   ]
  },
  {
   "cell_type": "code",
   "execution_count": null,
   "metadata": {
    "id": "rHoOgJsICj6h"
   },
   "outputs": [],
   "source": [
    "data_raw.describe()"
   ]
  },
  {
   "cell_type": "code",
   "execution_count": null,
   "metadata": {
    "id": "4vgCaib2CvUV"
   },
   "outputs": [],
   "source": [
    "data_raw.describe(include='category')"
   ]
  },
  {
   "cell_type": "markdown",
   "metadata": {
    "id": "sp0FhRGOi-U_"
   },
   "source": [
    "## 3. Обучающая и тестовая выборки\n",
    "\n",
    "Для предсказания цены квартиры будем использовать все входные признаки, кроме `Date`."
   ]
  },
  {
   "cell_type": "code",
   "execution_count": null,
   "metadata": {
    "id": "grRiTuCJi-U_"
   },
   "outputs": [],
   "source": [
    "X = data_raw.drop(['Price', 'Date'], axis=1)\n",
    "y = data_raw['Price']"
   ]
  },
  {
   "cell_type": "markdown",
   "metadata": {
    "id": "tbK2UIOXi-U_"
   },
   "source": [
    "Разобьем данные на обучающую и тестовую выборки в пропорции 3:1 (75% - обучающая выборка, 25% - тестовая):"
   ]
  },
  {
   "cell_type": "code",
   "execution_count": null,
   "metadata": {
    "id": "q6RHq0bui-U_"
   },
   "outputs": [],
   "source": [
    "from sklearn.model_selection import train_test_split\n",
    "X_train, X_test, y_train, y_test = train_test_split(X, y, test_size = 0.25, random_state = 42)\n",
    "\n",
    "N_train, _ = X_train.shape\n",
    "N_test,  _ = X_test.shape\n",
    "\n",
    "N_train, N_test"
   ]
  },
  {
   "cell_type": "markdown",
   "metadata": {
    "id": "_ltj8llMRqhg"
   },
   "source": [
    "##  4. Заполнение пропущенных значений"
   ]
  },
  {
   "cell_type": "markdown",
   "metadata": {
    "id": "gFsxlshNRqhg"
   },
   "source": [
    "Пропущенные значения в таблице представлены значениями `np.nan`.\n",
    "Посмотрим, сколько пропущенных значений в каждом столбце матрицы:\n",
    "`na` - not available"
   ]
  },
  {
   "cell_type": "code",
   "execution_count": null,
   "metadata": {
    "id": "lYf8gTzjRqhg",
    "scrolled": true
   },
   "outputs": [],
   "source": [
    "X_train.isna().sum()"
   ]
  },
  {
   "cell_type": "code",
   "execution_count": null,
   "metadata": {
    "id": "GEF-RWvFX3VM"
   },
   "outputs": [],
   "source": [
    "X_test.isna().sum()"
   ]
  },
  {
   "cell_type": "markdown",
   "metadata": {
    "id": "7Qpe7NGmRqhh"
   },
   "source": [
    "С пропущенными значениями надо что-то сделать. Например, можно просто удалить строки с пропущенными значениями. В нашем случае это разумно, так как таких строк немного. В некоторых случаях можно удалить столбцы с пропущенными значениями. Однако если данных мало такие простые стратегии могут привести к тому, что данных станет вообще ничтожное количество.\n",
    "\n",
    "Простая разумная стратегия - заполнить пропущенные значения медианой или средним (для количественных признаков) или модой (для номинальных признаков).\n",
    "\n",
    "Заполним медианами пропущенные значения в столбцах, соответствующих числовым признакам:"
   ]
  },
  {
   "cell_type": "code",
   "execution_count": null,
   "metadata": {
    "id": "1oKdIp95VMdt"
   },
   "outputs": [],
   "source": [
    "from sklearn.impute import SimpleImputer\n",
    "imp_num = SimpleImputer(missing_values=np.nan, strategy='median')\n",
    "imp_num.fit(X_train[['Floors', 'Rooms', 'Floor', 'Area']])"
   ]
  },
  {
   "cell_type": "code",
   "execution_count": null,
   "metadata": {
    "id": "ksuaDZQgZZ9C"
   },
   "outputs": [],
   "source": [
    "X_train[['Floors', 'Rooms', 'Floor', 'Area']] = imp_num.transform(X_train[['Floors', 'Rooms', 'Floor', 'Area']])"
   ]
  },
  {
   "cell_type": "markdown",
   "metadata": {
    "id": "BrTXwcJUYwuQ"
   },
   "source": [
    "Заполним наиболее частыми значения в столбцах, соответствующих категориальным признакам/ Еще можно ввести новый признак - индикатор пропущенного значения (легко сделать при бинаризации ниже)."
   ]
  },
  {
   "cell_type": "code",
   "execution_count": null,
   "metadata": {
    "id": "XFR7oIF7YRJF"
   },
   "outputs": [],
   "source": [
    "from sklearn.impute import SimpleImputer\n",
    "imp_cat = SimpleImputer(missing_values=np.nan, strategy='most_frequent')\n",
    "imp_cat.fit(X_train[['Type', 'Building']])"
   ]
  },
  {
   "cell_type": "code",
   "execution_count": null,
   "metadata": {
    "id": "MfDRAUqWXW9t"
   },
   "outputs": [],
   "source": [
    "X_train[['Type', 'Building']] = imp_cat.transform(X_train[['Type', 'Building']])"
   ]
  },
  {
   "cell_type": "code",
   "execution_count": null,
   "metadata": {
    "id": "feUcpROUZvwi"
   },
   "outputs": [],
   "source": [
    "X_train.isna().sum()"
   ]
  },
  {
   "cell_type": "markdown",
   "metadata": {
    "id": "OiUNawT3i-U9"
   },
   "source": [
    "## 5. Бинаризация номинальных признаков"
   ]
  },
  {
   "cell_type": "markdown",
   "metadata": {
    "id": "zRGzG704i-U9"
   },
   "source": [
    "Алгоритмы из библиотеки scikit-learn (почти) не умеют работать напрямую с категориальными признаками. Поэтому их вначале надо закодировать с помощью числовых принаков.\n",
    "\n",
    "Бинарный признак `'Type'` заменим на числовой.\n",
    "\n",
    "`'Resale'` → 0, `'New'`→ 1"
   ]
  },
  {
   "cell_type": "markdown",
   "metadata": {
    "id": "ec1if69hi-U-"
   },
   "source": [
    "К категориальному (небинарному) признаку `'Building'` применим метод *бинаризации* (*one-hot encoding*),\n",
    "который заключается в следующем.\n",
    "\n",
    "Этот признак принимает 5 значений: `'Block'`, `'Brick'`, `'Monolithic'`, `'Panel'`, `'Wooden'`.\n",
    "\n",
    "Вместо признака `'Building'` будем использовать 5 новых признаков (dummy-признаков, dummy - фиктивный), которые так и назовем `'Building_Block'`, `'Building_Brick'`, `'Building_Monolithic'`, `'Building_Panel'`, `'Building_Wooden'`. При этом\n",
    "- если признак `'Building'` принимает значение `'Block'`, то признак `'Building_Block'` равен 1, а все остальные 0;\n",
    "- если признак `'Building'` принимает значение `'Brick'`, то признак `'Building_Brick'` равен 1, а все остальные 0\n",
    "- и т.д."
   ]
  },
  {
   "cell_type": "code",
   "execution_count": null,
   "metadata": {
    "id": "1FvYQYY9i-U-"
   },
   "outputs": [],
   "source": [
    "from sklearn.preprocessing import OneHotEncoder\n",
    "enc = OneHotEncoder(drop='if_binary', sparse=False)\n",
    "enc.fit(X_train[['Type', 'Building']])"
   ]
  },
  {
   "cell_type": "code",
   "execution_count": null,
   "metadata": {
    "id": "p2zc8UD5i-U-"
   },
   "outputs": [],
   "source": [
    "dummies = pd.DataFrame(enc.transform(X_train[['Type', 'Building']]),\n",
    "                       columns=enc.get_feature_names_out(), index=X_train.index)\n",
    "dummies.head()"
   ]
  },
  {
   "cell_type": "markdown",
   "metadata": {
    "id": "rZFaRAXVi-U-"
   },
   "source": [
    "Добавим эти dummy-столбцы к таблице и удалим столбцы `Type`, `Building`:"
   ]
  },
  {
   "cell_type": "code",
   "execution_count": null,
   "metadata": {
    "id": "KWH2cXh1i-U-"
   },
   "outputs": [],
   "source": [
    "X_train = pd.concat((X_train, dummies), axis=1).drop(['Type', 'Building'], axis=1)"
   ]
  },
  {
   "cell_type": "code",
   "execution_count": null,
   "metadata": {
    "id": "JHJRXa0Ri-U-"
   },
   "outputs": [],
   "source": [
    "X_train.head()"
   ]
  },
  {
   "cell_type": "markdown",
   "metadata": {
    "id": "t8g_PyEEi-U-"
   },
   "source": [
    "## 6. Масштабирование количественных признаков\n",
    "\n",
    "Перед применением алгоритмов машинного обучения количественные признаки полезно нормализовать.\n",
    "\n",
    "Наиболее часто используют один из трех следующих способов:\n",
    "- *приведение к отрезку $[0,1]$* - это линейное преобразование, приводящее все значения к заданному отрезку;\n",
    "- *стандартизация* - линейное преобразование, приводящее все значения к нулевому среднему и единичному стандартному отклонению;\n",
    "- *нормализация* - приведение данных к единичной норме.\n",
    "\n",
    "Выполним стандартизацию всех признаков:"
   ]
  },
  {
   "cell_type": "code",
   "execution_count": null,
   "metadata": {
    "id": "KZMSeJWbi-U-"
   },
   "outputs": [],
   "source": [
    "from sklearn.preprocessing import StandardScaler\n",
    "scaler = StandardScaler()\n",
    "scaler.fit(X_train)\n",
    "X_train = pd.DataFrame(scaler.transform(X_train), columns=X_train.columns, index=X_train.index)"
   ]
  },
  {
   "cell_type": "code",
   "execution_count": null,
   "metadata": {
    "id": "xmzVM8uhi-U_"
   },
   "outputs": [],
   "source": [
    "X_train.describe()"
   ]
  },
  {
   "cell_type": "markdown",
   "metadata": {
    "id": "CbJQlmDRi-U_"
   },
   "source": [
    "# 7. Обучаем модель"
   ]
  },
  {
   "cell_type": "markdown",
   "metadata": {
    "id": "FiwHvdeZi-VA"
   },
   "source": [
    "## Линейная регрессия\n",
    "\n",
    "- Создаем модель и задаем гиперпараметры (конструктор)\n",
    "- Тренируем модель (метод `fit`)\n",
    "- Используем модель на новых данных (метод `predict`) и измеряем качество модели\n",
    "\n",
    "Ищем коэффициенты (веса) $\\beta_0, \\beta_1, \\dots, \\beta_d$ _линейной модели_\n",
    "$$\n",
    "f(x) = \\beta_0 + \\sum_{j=1}^d \\beta_j x_j,\n",
    "$$\n",
    "минимизирующие остаточную сумму квадратов\n",
    "$$\n",
    "{\\rm RSS} = \\sum_{i=1}^N \\left(f(x^{(i)}) - y^{(i)}\\right)^2\n",
    "$$"
   ]
  },
  {
   "cell_type": "code",
   "execution_count": null,
   "metadata": {
    "id": "HMfrFZA4i-VA"
   },
   "outputs": [],
   "source": [
    "from sklearn.linear_model import LinearRegression\n",
    "\n",
    "model = LinearRegression()\n",
    "model.fit(X_train, y_train)"
   ]
  },
  {
   "cell_type": "code",
   "execution_count": null,
   "metadata": {
    "id": "M8G4_Nt9uOEW"
   },
   "outputs": [],
   "source": [
    "y_train_predict = model.predict(X_train)"
   ]
  },
  {
   "cell_type": "code",
   "execution_count": null,
   "metadata": {
    "id": "yVPPtEm1i-VA"
   },
   "outputs": [],
   "source": [
    "model.coef_"
   ]
  },
  {
   "cell_type": "code",
   "execution_count": null,
   "metadata": {
    "id": "NZWaVzkG42c3"
   },
   "outputs": [],
   "source": [
    "y_train"
   ]
  },
  {
   "cell_type": "code",
   "execution_count": null,
   "metadata": {
    "id": "nhLRcxj05CiU"
   },
   "outputs": [],
   "source": [
    "y_train_predict"
   ]
  },
  {
   "cell_type": "code",
   "execution_count": null,
   "metadata": {
    "id": "fGJMuKCwu-pf"
   },
   "outputs": [],
   "source": [
    "RSS = ((y_train_predict - y_train)**2).sum()\n",
    "RSS/N_train, (RSS/N_train)**.5"
   ]
  },
  {
   "cell_type": "markdown",
   "metadata": {
    "id": "xmujhCZtuFRv"
   },
   "source": [
    "# 8.Тестируем модель\n",
    "\n",
    "Мы сделали много преобразований с `X_train`. Чтобы нашу модель опробовать на `X_test`, надо вначале с `X_test` выполнить те же преобразования.  "
   ]
  },
  {
   "cell_type": "code",
   "execution_count": null,
   "metadata": {
    "id": "gvtRc2p5wJ5J"
   },
   "outputs": [],
   "source": [
    "# Заполнение пропущенных значений:\n",
    "X_test[['Floors', 'Rooms', 'Floor', 'Area']] = imp_num.transform(\n",
    "    X_test[['Floors', 'Rooms', 'Floor', 'Area']])\n",
    "X_test[['Type', 'Building']] = imp_cat.transform(X_test[['Type', 'Building']])\n",
    "\n",
    "# One-hot encoding:\n",
    "dummies = pd.DataFrame(enc.transform(X_test[['Type', 'Building']]),\n",
    "                       columns=enc.get_feature_names_out(), index=X_test.index)\n",
    "X_test = pd.concat((X_test, dummies), axis=1).drop(['Type', 'Building'], axis=1)\n",
    "\n",
    "# Масштабирование:\n",
    "X_test = pd.DataFrame(scaler.transform(X_test),\n",
    "                      columns=X_test.columns, index=X_test.index)"
   ]
  },
  {
   "cell_type": "code",
   "execution_count": null,
   "metadata": {
    "id": "CV8ocasqi-VA"
   },
   "outputs": [],
   "source": [
    "y_train_predict = model.predict(X_train)\n",
    "y_test_predict  = model.predict(X_test)"
   ]
  },
  {
   "cell_type": "markdown",
   "metadata": {
    "id": "7v4dU30Mi-VA"
   },
   "source": [
    "### Измеряем метрики качества\n",
    "\n",
    "*Остаточная сумма квадратов* (*residual sum of squares*):\n",
    "$$\n",
    "{\\rm RSS} = \\sum_{i=1}^N \\left(y^{(i)} - \\widehat{y}^{(i)} \\right)^2\n",
    "$$\n",
    "где\n",
    "$$\n",
    "\\widehat{y}^{(i)} = \\beta_0 + \\sum_{j=1}^d \\beta_j x_j^{(i)}\n",
    "$$\n",
    "\n",
    "*Полная сумма квадратов*:\n",
    "$$\n",
    "{\\rm TSS} = \\sum_{i=1}^N \\left(y^{(i)} - \\overline{y} \\right)^2,\n",
    "$$\n",
    "где\n",
    "$$\n",
    "\\overline{y} = \\frac{1}{N} \\sum_{i=1}^N y^{(i)}\n",
    "$$\n",
    "\n",
    "$$\n",
    "\\overline{y} = \\beta_0 + \\sum_{j=1}^d \\beta_j \\overline{x}_j\n",
    "$$\n",
    "\n",
    "\n",
    "*Сумма квадратов, обусловленная регрессией*:\n",
    "$$\n",
    "{\\rm ESS} = \\sum_{i=1}^N \\left(\\overline{y} - \\widehat{y}^{(i)} \\right)^2\n",
    "$$\n",
    "\n",
    "Можно показать, что\n",
    "$$\n",
    "{\\rm TSS} = {\\rm RSS} + {\\rm ESS}\n",
    "$$\n",
    "\n",
    "*Коэффициент детерминации*, или *коэффициент регрессии Пирсона*:\n",
    "$$\n",
    "R^2 = 1 - \\frac{{\\rm RSS}}{{\\rm TSS}} = \\frac{{\\rm ESS}}{{\\rm TSS}}\n",
    "$$\n",
    "— доля объясняемого регрессией разброса относительно среднего (чем ближе к 1, тем модель лучше объясняет данные).\n",
    "\n",
    "$$\n",
    "0 \\le R^2 \\le 1\n",
    "$$\n",
    "\n",
    "$R = \\sqrt{R^2}$ равно (по модулю) выборочной корреляции между $y^{(i)}$ и $\\widehat{y}^{(i)}$\n",
    "\n",
    "Если $d = 1$, то $R$ равен (по модулю) выборочной корреляции между $y^{(i)}$ и $x^{(i)}$.\n",
    "\n",
    "*Средняя сумма квадратов отклонений* (MSE - Mean Squared Error)\n",
    "$$\n",
    "{\\rm MSE} = \\frac{1}{N} {\\rm RSS} = \\frac{1}{N} \\sum_{i=1}^N \\left(y^{(i)} - \\widehat{y}^{(i)} \\right)^2\n",
    "$$\n",
    "\n",
    "*Среднеквадратическая ошибка* (RMSE - Rooted Mean Squared Error)\n",
    "$$\n",
    "{\\rm RMSE} = \\sqrt{{\\rm MSE}}\n",
    "$$\n",
    "\n",
    "MSE иногда называют *средней квадратической ошибкой*, что, конечно же, правильней отражает суть дела, но добавляет путаницы.\n",
    "\n",
    "Для вычисления этих метрик можно воспользоваться соответствующими функциями из модуля `metrics` библиотеки `sklearn`, но можно также вычислить \"вручную\". Значение $R^2$ также вычисляет метод `score` объекта `LinearRegression`"
   ]
  },
  {
   "cell_type": "code",
   "execution_count": null,
   "metadata": {
    "id": "j11PWj8ni-VA"
   },
   "outputs": [],
   "source": [
    "from sklearn.metrics import mean_squared_error, r2_score\n",
    "\n",
    "MSE_train = mean_squared_error(y_train, y_train_predict)\n",
    "MSE_test  = mean_squared_error(y_test,  y_test_predict)\n",
    "R2_train = r2_score(y_train, y_train_predict)\n",
    "R2_test  = r2_score(y_test,  y_test_predict)\n",
    "\n",
    "MSE_train, MSE_test, R2_train, R2_test"
   ]
  },
  {
   "cell_type": "code",
   "execution_count": null,
   "metadata": {
    "id": "ZmYY92eEi-VB"
   },
   "outputs": [],
   "source": [
    "model.score(X_train, y_train) # Коэффициент детерминации R^2"
   ]
  },
  {
   "cell_type": "code",
   "execution_count": null,
   "metadata": {
    "id": "cBkxm0DNi-VB"
   },
   "outputs": [],
   "source": [
    "model.score(X_test, y_test)"
   ]
  },
  {
   "cell_type": "code",
   "execution_count": null,
   "metadata": {
    "id": "GsdoPdKgi-VB"
   },
   "outputs": [],
   "source": [
    "#MSE_train = np.mean((y_train_predict - y_train)**2)\n",
    "#MSE_test  = np.mean((y_test_predict - y_test)**2)\n",
    "MSE_train = ((y_train_predict - y_train)**2).mean()\n",
    "MSE_test  = ((y_test_predict - y_test)**2).mean()\n",
    "MSE_train, MSE_test"
   ]
  },
  {
   "cell_type": "code",
   "execution_count": null,
   "metadata": {
    "id": "Y1qSCy6ni-VB"
   },
   "outputs": [],
   "source": [
    "RMSE_train = (MSE_train)**(.5)\n",
    "RMSE_test = (MSE_test)**(.5)\n",
    "RMSE_train, RMSE_test"
   ]
  },
  {
   "cell_type": "code",
   "execution_count": null,
   "metadata": {
    "id": "rzAfADgvi-VB"
   },
   "outputs": [],
   "source": [
    "RMSE_table = pd.DataFrame(columns=('train', 'test'))\n",
    "RMSE_table.loc['Linear Regression, all features', :] = (RMSE_train, RMSE_test)"
   ]
  },
  {
   "cell_type": "code",
   "execution_count": null,
   "metadata": {
    "id": "gn2falMZi-VB"
   },
   "outputs": [],
   "source": [
    "RMSE_table"
   ]
  },
  {
   "cell_type": "code",
   "execution_count": null,
   "metadata": {
    "id": "tqC7Q0wuZ17D"
   },
   "outputs": [],
   "source": [
    "R2_table = pd.DataFrame(columns=('train', 'test'))\n",
    "R2_table.loc['Linear Regression, all features', :] = (R2_train, R2_test)\n",
    "R2_table"
   ]
  },
  {
   "cell_type": "markdown",
   "metadata": {
    "id": "GMLDzaLii-VC"
   },
   "source": [
    "### Если предсказывать цену только по площади квартиры?\n",
    "\n",
    "Попробуем построить линейную модель, описывающую зависимость `Price` только от `Area`"
   ]
  },
  {
   "cell_type": "code",
   "execution_count": null,
   "metadata": {
    "id": "oD4fk7GGi-VC"
   },
   "outputs": [],
   "source": [
    "model = LinearRegression()\n",
    "model.fit(X_train[['Area']], y_train)\n",
    "\n",
    "y_train_predict = model.predict(X_train[['Area']])\n",
    "y_test_predict  = model.predict(X_test[['Area']])"
   ]
  },
  {
   "cell_type": "code",
   "execution_count": null,
   "metadata": {
    "id": "dEx0ym4Ri-VC"
   },
   "outputs": [],
   "source": [
    "RMSE_train = mean_squared_error(y_train, y_train_predict)**.5\n",
    "RMSE_test  = mean_squared_error(y_test,  y_test_predict)**.5"
   ]
  },
  {
   "cell_type": "code",
   "execution_count": null,
   "metadata": {
    "id": "QNfzQE-ni-VC"
   },
   "outputs": [],
   "source": [
    "RMSE_table.loc['Linear Regression, Area', :] = (RMSE_train, RMSE_test)\n",
    "RMSE_table"
   ]
  },
  {
   "cell_type": "code",
   "execution_count": null,
   "metadata": {
    "id": "fi2p8ybObOx_"
   },
   "outputs": [],
   "source": [
    "R2_train = r2_score(y_train, y_train_predict)\n",
    "R2_test  = r2_score(y_test,  y_test_predict)\n",
    "R2_table.loc['Linear Regression, Area', :] = (R2_train, R2_test)\n",
    "R2_table"
   ]
  },
  {
   "cell_type": "markdown",
   "metadata": {
    "id": "dsnfUFlSi-VC"
   },
   "source": [
    "### Как цена зависит от количества комнат?\n",
    "\n",
    "Попробуем построить линейную модель, описывающую зависимость `Price` только от `Rooms`"
   ]
  },
  {
   "cell_type": "code",
   "execution_count": null,
   "metadata": {
    "id": "5hLBoc9ei-VC"
   },
   "outputs": [],
   "source": [
    "model = LinearRegression()\n",
    "model.fit(X_train[['Rooms']], y_train)\n",
    "\n",
    "y_train_predict = model.predict(X_train[['Rooms']])\n",
    "y_test_predict  = model.predict(X_test[['Rooms']])"
   ]
  },
  {
   "cell_type": "code",
   "execution_count": null,
   "metadata": {
    "id": "JfEGmJXVi-VC"
   },
   "outputs": [],
   "source": [
    "RMSE_train = mean_squared_error(y_train, y_train_predict)**.5\n",
    "RMSE_test  = mean_squared_error(y_test,  y_test_predict)**.5"
   ]
  },
  {
   "cell_type": "code",
   "execution_count": null,
   "metadata": {
    "id": "HHIQ5TUpi-VC"
   },
   "outputs": [],
   "source": [
    "RMSE_table.loc['Linear Regression, Rooms', :] = (RMSE_train, RMSE_test)\n",
    "RMSE_table"
   ]
  },
  {
   "cell_type": "markdown",
   "metadata": {
    "id": "7OiWvWv5i-VD"
   },
   "source": [
    "Ошибка заметно возросла"
   ]
  },
  {
   "cell_type": "code",
   "execution_count": null,
   "metadata": {
    "id": "rW0YVPwEb8pj"
   },
   "outputs": [],
   "source": [
    "R2_train = r2_score(y_train, y_train_predict)\n",
    "R2_test  = r2_score(y_test,  y_test_predict)\n",
    "R2_table.loc['Linear Regression, Rooms', :] = (R2_train, R2_test)\n",
    "R2_table"
   ]
  },
  {
   "cell_type": "markdown",
   "metadata": {
    "id": "QKAfjOJ4i-VD"
   },
   "source": [
    "### Как цена зависит от площади и количества комнат?\n",
    "\n",
    "Попробуем построить линейную модель, описывающую зависимость `Price` от `Area` и `Rooms`"
   ]
  },
  {
   "cell_type": "code",
   "execution_count": null,
   "metadata": {
    "id": "AJmasBpii-VD"
   },
   "outputs": [],
   "source": [
    "model = LinearRegression()\n",
    "model.fit(X_train[['Area', 'Rooms']], y_train)\n",
    "\n",
    "y_train_predict = model.predict(X_train[['Area', 'Rooms']])\n",
    "y_test_predict  = model.predict(X_test[['Area', 'Rooms']])"
   ]
  },
  {
   "cell_type": "code",
   "execution_count": null,
   "metadata": {
    "id": "rz8T9J6Ni-VD"
   },
   "outputs": [],
   "source": [
    "RMSE_train = mean_squared_error(y_train, y_train_predict)**.5\n",
    "RMSE_test  = mean_squared_error(y_test,  y_test_predict)**.5"
   ]
  },
  {
   "cell_type": "code",
   "execution_count": null,
   "metadata": {
    "id": "hOsu2U6Pi-VD"
   },
   "outputs": [],
   "source": [
    "RMSE_table.loc['Linear Regression, Area & Rooms', :] = (RMSE_train, RMSE_test)\n",
    "RMSE_table"
   ]
  },
  {
   "cell_type": "code",
   "execution_count": null,
   "metadata": {
    "id": "V4H8LvaPU9Gk"
   },
   "outputs": [],
   "source": [
    "R2_train = r2_score(y_train, y_train_predict)\n",
    "R2_test  = r2_score(y_test,  y_test_predict)\n",
    "R2_table.loc['Linear Regression, Area & Rooms', :] = (R2_train, R2_test)\n",
    "R2_table"
   ]
  },
  {
   "cell_type": "markdown",
   "metadata": {
    "id": "UUKu-qADhHU4"
   },
   "source": [
    "## 9.1 Метод $k$ ближайших соседей ($k$NN, $k$ nearest neighbours)"
   ]
  },
  {
   "cell_type": "code",
   "execution_count": null,
   "metadata": {
    "id": "EogUmdl4hHU5"
   },
   "outputs": [],
   "source": [
    "from sklearn.neighbors import KNeighborsRegressor\n",
    "\n",
    "model = KNeighborsRegressor(n_neighbors=7) # по умолчанию n_neighbors=5\n",
    "model.fit(X_train, y_train)"
   ]
  },
  {
   "cell_type": "code",
   "execution_count": null,
   "metadata": {
    "id": "CLKjKK5LhHU6"
   },
   "outputs": [],
   "source": [
    "y_train_predict = model.predict(X_train)\n",
    "y_test_predict  = model.predict(X_test)"
   ]
  },
  {
   "cell_type": "code",
   "execution_count": null,
   "metadata": {
    "id": "h8m0QXoEhHU7"
   },
   "outputs": [],
   "source": [
    "RMSE_train = mean_squared_error(y_train, y_train_predict)**.5\n",
    "RMSE_test  = mean_squared_error(y_test,  y_test_predict)**.5\n",
    "R2_train = r2_score(y_train, y_train_predict)\n",
    "R2_test  = r2_score(y_test,  y_test_predict)"
   ]
  },
  {
   "cell_type": "code",
   "execution_count": null,
   "metadata": {
    "id": "aQM2XTZ0hHU7"
   },
   "outputs": [],
   "source": [
    "RMSE_table.loc['k Nearest Neighbours', :] = (RMSE_train, RMSE_test)\n",
    "RMSE_table"
   ]
  },
  {
   "cell_type": "code",
   "execution_count": null,
   "metadata": {
    "id": "GvHHIFv9hHU8"
   },
   "outputs": [],
   "source": [
    "R2_table.loc['k Nearest Neighbours', :] = (R2_train, R2_test)\n",
    "R2_table"
   ]
  },
  {
   "cell_type": "markdown",
   "metadata": {
    "id": "zhbhdtDVdIIz"
   },
   "source": [
    "## 9.2 Полносвязная нейронная сеть (Full-connected Neural Network)\n",
    "\n",
    "Full connected neural network, or multi-layer perceptron"
   ]
  },
  {
   "cell_type": "code",
   "execution_count": null,
   "metadata": {
    "id": "2D0aVz6ydNky"
   },
   "outputs": [],
   "source": [
    "from sklearn.neural_network import MLPRegressor\n",
    "\n",
    "model = MLPRegressor(hidden_layer_sizes=(20,10))\n",
    "model.fit(X_train, y_train)"
   ]
  },
  {
   "cell_type": "code",
   "execution_count": null,
   "metadata": {
    "id": "yUkYn3ibekNV"
   },
   "outputs": [],
   "source": [
    "y_train_predict = model.predict(X_train)\n",
    "y_test_predict  = model.predict(X_test)"
   ]
  },
  {
   "cell_type": "code",
   "execution_count": null,
   "metadata": {
    "id": "kra4lPY2dnUx"
   },
   "outputs": [],
   "source": [
    "RMSE_train = mean_squared_error(y_train, y_train_predict)**.5\n",
    "RMSE_test  = mean_squared_error(y_test,  y_test_predict)**.5\n",
    "R2_train = r2_score(y_train, y_train_predict)\n",
    "R2_test  = r2_score(y_test,  y_test_predict)"
   ]
  },
  {
   "cell_type": "code",
   "execution_count": null,
   "metadata": {
    "id": "S5ZCVz-QeKly"
   },
   "outputs": [],
   "source": [
    "RMSE_table.loc['Neural Network', :] = (RMSE_train, RMSE_test)\n",
    "RMSE_table"
   ]
  },
  {
   "cell_type": "code",
   "execution_count": null,
   "metadata": {
    "id": "Z0E4xv4NeRPd"
   },
   "outputs": [],
   "source": [
    "R2_table.loc['Neural Network', :] = (R2_train, R2_test)\n",
    "R2_table"
   ]
  },
  {
   "cell_type": "markdown",
   "metadata": {
    "id": "szpyWdJbfX7f"
   },
   "source": [
    "## 9.3 Случайный лес (Random Forest)"
   ]
  },
  {
   "cell_type": "code",
   "execution_count": null,
   "metadata": {
    "id": "THMmF38pfPLD"
   },
   "outputs": [],
   "source": [
    "from sklearn.ensemble import RandomForestRegressor\n",
    "\n",
    "model = RandomForestRegressor(n_estimators=200) # по умолчанию n_estimators=100\n",
    "model.fit(X_train, y_train)"
   ]
  },
  {
   "cell_type": "code",
   "execution_count": null,
   "metadata": {
    "id": "KopKqAW4fPLD"
   },
   "outputs": [],
   "source": [
    "y_train_predict = model.predict(X_train)\n",
    "y_test_predict  = model.predict(X_test)"
   ]
  },
  {
   "cell_type": "code",
   "execution_count": null,
   "metadata": {
    "id": "CuTm7ap7fPLD"
   },
   "outputs": [],
   "source": [
    "RMSE_train = mean_squared_error(y_train, y_train_predict)**.5\n",
    "RMSE_test  = mean_squared_error(y_test,  y_test_predict)**.5\n",
    "R2_train = r2_score(y_train, y_train_predict)\n",
    "R2_test  = r2_score(y_test,  y_test_predict)"
   ]
  },
  {
   "cell_type": "code",
   "execution_count": null,
   "metadata": {
    "id": "ehmowtF5fPLE"
   },
   "outputs": [],
   "source": [
    "RMSE_table.loc['Random Forest', :] = (RMSE_train, RMSE_test)\n",
    "RMSE_table"
   ]
  },
  {
   "cell_type": "code",
   "execution_count": null,
   "metadata": {
    "id": "jz--AjUmfPLE"
   },
   "outputs": [],
   "source": [
    "R2_table.loc['Random Forest', :] = (R2_train, R2_test)\n",
    "R2_table"
   ]
  },
  {
   "cell_type": "markdown",
   "metadata": {
    "id": "SldsVAltRqh4"
   },
   "source": [
    "Метод Random Forest позволяет получить некоторые оценки \"*важности*\" признаков.\n",
    "Чем значение больше, тем признак важнее."
   ]
  },
  {
   "cell_type": "code",
   "execution_count": null,
   "metadata": {
    "id": "GVm143HyRqh4"
   },
   "outputs": [],
   "source": [
    "importances = model.feature_importances_\n",
    "importances"
   ]
  },
  {
   "cell_type": "code",
   "execution_count": null,
   "metadata": {
    "id": "32wJL3RqRqh5"
   },
   "outputs": [],
   "source": [
    "np.sum(importances)"
   ]
  },
  {
   "cell_type": "code",
   "execution_count": null,
   "metadata": {
    "id": "cRbD6LQVRqh5"
   },
   "outputs": [],
   "source": [
    "importances = pd.Series(model.feature_importances_, index=X_train.columns).sort_values(ascending=False)\n",
    "importances"
   ]
  },
  {
   "cell_type": "code",
   "execution_count": null,
   "metadata": {
    "id": "z-GImKQ0Rqh5"
   },
   "outputs": [],
   "source": [
    "sns.barplot(y=importances.index, x=importances, orient=\"h\")\n",
    "pass"
   ]
  },
  {
   "cell_type": "markdown",
   "metadata": {
    "id": "hQXjT6OtgGmi"
   },
   "source": [
    "## 9.4 Градиентный бустинг (Gradient Boosting)"
   ]
  },
  {
   "cell_type": "code",
   "execution_count": null,
   "metadata": {
    "id": "GT0lSy0kgGmj"
   },
   "outputs": [],
   "source": [
    "from sklearn.ensemble import GradientBoostingRegressor\n",
    "\n",
    "model = GradientBoostingRegressor(n_estimators=200) # по умолчанию n_estimators=100\n",
    "model.fit(X_train, y_train)"
   ]
  },
  {
   "cell_type": "code",
   "execution_count": null,
   "metadata": {
    "id": "htYwqOhJgGmj"
   },
   "outputs": [],
   "source": [
    "y_train_predict = model.predict(X_train)\n",
    "y_test_predict  = model.predict(X_test)"
   ]
  },
  {
   "cell_type": "code",
   "execution_count": null,
   "metadata": {
    "id": "0l2QQ3C2gGmj"
   },
   "outputs": [],
   "source": [
    "RMSE_train = mean_squared_error(y_train, y_train_predict)**.5\n",
    "RMSE_test  = mean_squared_error(y_test,  y_test_predict)**.5\n",
    "R2_train = r2_score(y_train, y_train_predict)\n",
    "R2_test  = r2_score(y_test,  y_test_predict)"
   ]
  },
  {
   "cell_type": "code",
   "execution_count": null,
   "metadata": {
    "id": "E-V0BQ2MgGmj"
   },
   "outputs": [],
   "source": [
    "RMSE_table.loc['Gradient Boosting', :] = (RMSE_train, RMSE_test)\n",
    "RMSE_table"
   ]
  },
  {
   "cell_type": "code",
   "execution_count": null,
   "metadata": {
    "id": "_6J5DnH8gGmk"
   },
   "outputs": [],
   "source": [
    "R2_table.loc['Gradient Boosting', :] = (R2_train, R2_test)\n",
    "R2_table"
   ]
  },
  {
   "cell_type": "code",
   "execution_count": null,
   "metadata": {
    "id": "WBIw1B2hLL8w"
   },
   "outputs": [],
   "source": []
  },
  {
   "cell_type": "code",
   "execution_count": null,
   "metadata": {
    "id": "7wQ-S-_xD8UY"
   },
   "outputs": [],
   "source": [
    "importances = model.feature_importances_\n",
    "importances"
   ]
  },
  {
   "cell_type": "code",
   "execution_count": null,
   "metadata": {
    "id": "uY3FuRlwD8Ub"
   },
   "outputs": [],
   "source": [
    "importances = pd.Series(model.feature_importances_, index=X_train.columns).sort_values(ascending=False)\n",
    "importances"
   ]
  },
  {
   "cell_type": "code",
   "execution_count": null,
   "metadata": {
    "id": "mBqhK-SLD8Ub"
   },
   "outputs": [],
   "source": [
    "sns.barplot(y=importances.index, x=importances, orient=\"h\")\n",
    "pass"
   ]
  },
  {
   "cell_type": "markdown",
   "metadata": {
    "id": "Y46gHNmkLMtz"
   },
   "source": [
    "# 10. Использование Pipeline\n",
    "\n",
    "`Pipeline` - удобный инструмент, позволяющий соединять вместе предобработку и основные методы модели"
   ]
  },
  {
   "cell_type": "code",
   "execution_count": null,
   "metadata": {
    "id": "jznScovOLl2s"
   },
   "outputs": [],
   "source": [
    "X = data_raw.drop(['Price'], axis=1)\n",
    "y = data_raw['Price']\n",
    "\n",
    "X_train, X_test, y_train, y_test = train_test_split(X, y, test_size = 0.25, random_state = 42)\n",
    "\n",
    "N_train, _ = X_train.shape\n",
    "N_test,  _ = X_test.shape"
   ]
  },
  {
   "cell_type": "code",
   "execution_count": null,
   "metadata": {
    "id": "0YEhiyCMJtlU"
   },
   "outputs": [],
   "source": [
    "from sklearn.pipeline import Pipeline, make_pipeline\n",
    "from sklearn.compose import ColumnTransformer\n",
    "from sklearn.preprocessing import PolynomialFeatures\n",
    "from sklearn.compose import make_column_selector"
   ]
  },
  {
   "cell_type": "code",
   "execution_count": null,
   "metadata": {
    "id": "iwumk41fTXr8"
   },
   "outputs": [],
   "source": [
    "!pip install feature_engine\n",
    "from feature_engine.selection import DropFeatures"
   ]
  },
  {
   "cell_type": "markdown",
   "metadata": {
    "id": "GQBRc3JGWuYH"
   },
   "source": [
    "## 10.1 Линейная регрессия"
   ]
  },
  {
   "cell_type": "code",
   "execution_count": null,
   "metadata": {
    "id": "CZNjxSbnKQuE"
   },
   "outputs": [],
   "source": [
    "ppl = Pipeline([\n",
    "    # Удаляем нерелевантный признак:\n",
    "    ('drop_column', DropFeatures(['Date'])),\n",
    "    # Заполнение пропущенных значений:\n",
    "    ('impute', ColumnTransformer([\n",
    "        # Заполнение пропущенных числовых признаков:\n",
    "        ('num', make_pipeline(\n",
    "            SimpleImputer(strategy='median'),\n",
    "            StandardScaler()),\n",
    "            make_column_selector(dtype_include='float')\n",
    "        ),\n",
    "        # Заполнение пропущенных категориальных признаков:\n",
    "        ('cat', make_pipeline(\n",
    "            SimpleImputer(strategy='most_frequent'),\n",
    "            OneHotEncoder()),\n",
    "            make_column_selector(dtype_include='category')\n",
    "        )])\n",
    "    ),\n",
    "    # Добавляем новые признаки:\n",
    "    ('poly_feature', PolynomialFeatures(degree=3)),\n",
    "    # Обучение:\n",
    "    ('fit', LinearRegression())\n",
    "])"
   ]
  },
  {
   "cell_type": "code",
   "execution_count": null,
   "metadata": {
    "id": "6EnJzA0OKzFs"
   },
   "outputs": [],
   "source": [
    "ppl.fit(X_train, y_train)\n",
    "y_train_predict = ppl.predict(X_train)\n",
    "y_test_predict = ppl.predict(X_test)\n",
    "RMSE_train = mean_squared_error(y_train, y_train_predict)**.5\n",
    "RMSE_test  = mean_squared_error(y_test,  y_test_predict)**.5\n",
    "RMSE_train, RMSE_test"
   ]
  },
  {
   "cell_type": "markdown",
   "metadata": {
    "id": "TszAmcK_W1th"
   },
   "source": [
    "## 10.2 *k*NN"
   ]
  },
  {
   "cell_type": "code",
   "execution_count": null,
   "metadata": {
    "id": "kyTlQd7-WGIb"
   },
   "outputs": [],
   "source": [
    "ppl = Pipeline([\n",
    "    # Удаляем нерелевантный признак:\n",
    "    ('drop_column', DropFeatures(['Date'])),\n",
    "    # Заполнение пропущенных значений:\n",
    "    ('impute', ColumnTransformer([\n",
    "        # Заполнение пропущенных числовых признаков:\n",
    "        ('num', make_pipeline(\n",
    "            SimpleImputer(strategy='median'),\n",
    "            StandardScaler()),\n",
    "            make_column_selector(dtype_include='float')\n",
    "        ),\n",
    "        # Заполнение пропущенных категориальных признаков:\n",
    "        ('cat', make_pipeline(\n",
    "            SimpleImputer(strategy='most_frequent'),\n",
    "            OneHotEncoder()),\n",
    "            make_column_selector(dtype_include='category')\n",
    "        )])\n",
    "    ),\n",
    "    # Обучение:\n",
    "    ('fit', KNeighborsRegressor())\n",
    "])"
   ]
  },
  {
   "cell_type": "markdown",
   "metadata": {
    "id": "P_BahxHcZwGY"
   },
   "source": [
    "## Подбор гиперпараметров"
   ]
  },
  {
   "cell_type": "code",
   "execution_count": null,
   "metadata": {
    "id": "xHRp6jUFUTvm"
   },
   "outputs": [],
   "source": [
    "from sklearn.model_selection import GridSearchCV\n",
    "\n",
    "k_arr = np.array([1, 2, 3, 4, 5, 7, 10, 15, 20, 30, 40, 50])\n",
    "\n",
    "params = {\n",
    "    'fit__n_neighbors': k_arr,\n",
    "}\n",
    "\n",
    "model = GridSearchCV(ppl, params, scoring='neg_mean_squared_error')\n",
    "model.fit(X_train, y_train)\n",
    "\n",
    "model.best_score_, model.best_params_"
   ]
  },
  {
   "cell_type": "code",
   "execution_count": null,
   "metadata": {
    "id": "Vl81BSBGGZsW"
   },
   "outputs": [],
   "source": [
    "MSE_arr = -model.cv_results_['mean_test_score']\n",
    "std_arr = model.cv_results_['std_test_score']\n",
    "plt.plot(k_arr, MSE_arr, 'r.-')\n",
    "plt.fill_between(k_arr, MSE_arr - std_arr, MSE_arr + std_arr, alpha=0.15, facecolor='red')\n",
    "plt.xlim([max(k_arr), 0])\n",
    "plt.grid()\n",
    "plt.xlabel('k')\n",
    "plt.ylabel('MSE')\n",
    "pass"
   ]
  },
  {
   "cell_type": "markdown",
   "metadata": {
    "id": "_FzXY6M0PEnE"
   },
   "source": [
    "Теперь обучим модель при найденом оптимальном значении гиперпараметра:"
   ]
  },
  {
   "cell_type": "code",
   "execution_count": null,
   "metadata": {
    "id": "27H98-4VOZCx"
   },
   "outputs": [],
   "source": [
    "ppl.set_params(fit__n_neighbors=model.best_params_['fit__n_neighbors'])\n",
    "ppl.fit(X_train, y_train)\n",
    "y_train_predict = ppl.predict(X_train)\n",
    "y_test_predict = ppl.predict(X_test)\n",
    "RMSE_train = mean_squared_error(y_train, y_train_predict)**.5\n",
    "RMSE_test  = mean_squared_error(y_test,  y_test_predict)**.5\n",
    "RMSE_train, RMSE_test"
   ]
  },
  {
   "cell_type": "markdown",
   "metadata": {
    "id": "MBCbmNJgFSKX"
   },
   "source": [
    "## 10.3 Random Forests"
   ]
  },
  {
   "cell_type": "code",
   "execution_count": null,
   "metadata": {
    "id": "zRKVzxAcFRC5"
   },
   "outputs": [],
   "source": [
    "ppl = Pipeline([\n",
    "    # Удаляем нерелевантный признак:\n",
    "    ('drop_column', DropFeatures(['Date'])),\n",
    "    # Заполнение пропущенных значений:\n",
    "    ('impute', ColumnTransformer([\n",
    "        # Заполнение пропущенных числовых признаков:\n",
    "        ('num', make_pipeline(\n",
    "            SimpleImputer(strategy='median'),\n",
    "            StandardScaler()),\n",
    "            make_column_selector(dtype_include='float')\n",
    "        ),\n",
    "        # Заполнение пропущенных категориальных признаков:\n",
    "        ('cat', make_pipeline(\n",
    "            SimpleImputer(strategy='most_frequent'),\n",
    "            OneHotEncoder()),\n",
    "            make_column_selector(dtype_include='category')\n",
    "        )])\n",
    "    ),\n",
    "    # Обучение:\n",
    "    ('fit', RandomForestRegressor())\n",
    "])\n"
   ]
  },
  {
   "cell_type": "code",
   "execution_count": null,
   "metadata": {
    "id": "Up8Vbj1mFvXi"
   },
   "outputs": [],
   "source": [
    "ppl.fit(X_train, y_train)\n",
    "y_train_predict = ppl.predict(X_train)\n",
    "y_test_predict = ppl.predict(X_test)\n",
    "RMSE_train = mean_squared_error(y_train, y_train_predict)**.5\n",
    "RMSE_test  = mean_squared_error(y_test,  y_test_predict)**.5\n",
    "RMSE_train, RMSE_test"
   ]
  },
  {
   "cell_type": "markdown",
   "metadata": {
    "id": "GloxZYCLbKu-"
   },
   "source": [
    "## **Сводка метрик качества в задачах регрессии**\n",
    "\n",
    "*Средняя сумма квадратов отклонений* (MSE — Mean Squared Error)\n",
    "$$\n",
    "{\\rm MSE} = \\frac{1}{N} \\sum_{i=1}^N \\left(y^{(i)} - f(x^{(i)}) \\right)^2\n",
    "$$\n",
    "\n",
    "*Среднеквадратическая ошибка* (RMSE — Rooted Mean Squared Error)\n",
    "$$\n",
    "{\\rm RMSE} = \\sqrt{{\\rm MSE}}\n",
    "$$\n",
    "\n",
    "MSE иногда называют *средней квадратической ошибкой*, что, конечно же, правильней отражает суть дела, но добавляет путаницы.\n",
    "\n",
    "*Cредняя абсолютная ошибка* (MAE — Mean Absolute Error)\n",
    "$$\n",
    "{\\rm MAE} = \\frac{1}{N} \\sum_{i=1}^N \\left|y^{(i)} - f(x^{(i)}) \\right|\n",
    "$$\n",
    "\n",
    "*Коэффициент детерминации (Пирсона)*\n",
    "$$\n",
    "R^2 = 1 - \\frac{\\sum_{i=1}^N \\left(y^{(i)} - f(x^{(i)}) \\right)^2}{\\sum_{i=1}^N \\left(y^{(i)} - \\overline{y}\\right)^2}\n",
    "$$\n",
    "\n",
    "$R^2$ — фактически это нормированная среднеквадратичная ошибка, она измеряет долю дисперсии, объясненную моделью, в общей дисперсии $y$.\n",
    "\n",
    "*Средняя абсолютная процентная ошибка* (MAPE — Mean Absolute Percentage Error)\n",
    "\n",
    "$$\n",
    "{\\rm MAPE} = 100\\%\\times\\frac{1}{N} \\sum_{i=1}^N \\frac{\\left|y^{(i)} - f(x^{(i)}) \\right|}{|y^{(i)}|}\n",
    "$$\n",
    "\n",
    "*Cимметричная* MAPE (SMAPE — Symmetric MAPE)\n",
    "\n",
    "$$\n",
    "{\\rm SMAPE} = 100\\%\\times\\frac{1}{N} \\sum_{i=1}^N \\frac{2\\times\\left|y^{(i)} - f(x^{(i)}) \\right|}{|y^{(i)}| + |f(x^{(i)})|}\n",
    "$$"
   ]
  },
  {
   "cell_type": "code",
   "execution_count": null,
   "metadata": {
    "id": "b4zM8BJN5Opw"
   },
   "outputs": [],
   "source": []
  }
 ],
 "metadata": {
  "colab": {
   "include_colab_link": true,
   "provenance": []
  },
  "kernelspec": {
   "display_name": "Python 3 (ipykernel)",
   "language": "python",
   "name": "python3"
  },
  "language_info": {
   "codemirror_mode": {
    "name": "ipython",
    "version": 3
   },
   "file_extension": ".py",
   "mimetype": "text/x-python",
   "name": "python",
   "nbconvert_exporter": "python",
   "pygments_lexer": "ipython3",
   "version": "3.8.0"
  }
 },
 "nbformat": 4,
 "nbformat_minor": 1
}
