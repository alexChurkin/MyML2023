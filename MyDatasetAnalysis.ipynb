{
 "cells": [
  {
   "cell_type": "markdown",
   "id": "bce324e6",
   "metadata": {},
   "source": [
    "# 1. Загрузка данных, описание поставленной задачи и её первичный анализ"
   ]
  },
  {
   "cell_type": "code",
   "execution_count": null,
   "id": "9b535129",
   "metadata": {},
   "outputs": [],
   "source": [
    "import numpy as np              # Одномерные и многомерные массивы (array)\n",
    "import pandas as pd             # Таблицы и временные ряды (dataframe, series)\n",
    "import matplotlib.pyplot as plt # Научная графика\n",
    "import seaborn as sns           # Ещё больше красивой графики для визуализации данных\n",
    "import sklearn                  # Алгоритмы машинного обучения\n",
    "from sklearn.impute import SimpleImputer # Для заполнения пропущенных значений\n",
    "from sklearn.model_selection import train_test_split"
   ]
  },
  {
   "cell_type": "code",
   "execution_count": null,
   "id": "0c29acda",
   "metadata": {},
   "outputs": [],
   "source": [
    "from ucimlrepo import fetch_ucirepo\n",
    "predict_students_dropout_and_academic_success = fetch_ucirepo(id=697)\n",
    "\n",
    "X = predict_students_dropout_and_academic_success.data.features.copy()\n",
    "del X['Curricular units 1st sem (credited)']\n",
    "del X['Curricular units 1st sem (enrolled)']\n",
    "del X['Curricular units 1st sem (evaluations)']\n",
    "del X['Curricular units 1st sem (approved)']\n",
    "del X['Curricular units 1st sem (without evaluations)']\n",
    "del X['Curricular units 2nd sem (credited)']\n",
    "del X['Curricular units 2nd sem (enrolled)']\n",
    "del X['Curricular units 2nd sem (evaluations)']\n",
    "del X['Curricular units 2nd sem (approved)']\n",
    "del X['Curricular units 2nd sem (without evaluations)']\n",
    "y = predict_students_dropout_and_academic_success.data.targets.copy()\n",
    "\n",
    "X = X.join(y)"
   ]
  },
  {
   "cell_type": "code",
   "execution_count": null,
   "id": "743af46f",
   "metadata": {},
   "outputs": [],
   "source": [
    "X.shape # Размерность датасета (4424 строки и 27 столбцов-признаков (включая целевой))"
   ]
  },
  {
   "cell_type": "code",
   "execution_count": null,
   "id": "5f933427",
   "metadata": {},
   "outputs": [],
   "source": [
    "pd.options.display.max_columns = 27\n",
    "X # Наши исходные (\"сырые\") данные"
   ]
  },
  {
   "cell_type": "markdown",
   "id": "cacd307e",
   "metadata": {},
   "source": [
    "Всего студентов, окончивших обучение с дипломом, 2209; отчисленных – 1421;  \n",
    "только что зачисленных (возможно, уже не в первый раз!) – 794."
   ]
  },
  {
   "cell_type": "code",
   "execution_count": null,
   "id": "f795376d",
   "metadata": {},
   "outputs": [],
   "source": [
    "X['Target'].value_counts()"
   ]
  },
  {
   "cell_type": "markdown",
   "id": "b32626f6",
   "metadata": {},
   "source": [
    "## Постановка задачи\n",
    "Данная задача является задачей классификации студентов с 3-мя классами:\n",
    "- **Graduate** (стал выпускником)\n",
    "- **Enrolled** (только что зачислен)\n",
    "- **Dropout** (был отчислен за неуспеваемость).\n",
    "\n",
    "## Описание признаков, используемых в задаче:\n",
    "- **Marital Status** – семейное положение\n",
    "- **Application mode** – \"категория при зачислении\" (обычный студент, иностранный студент и другое)\n",
    "- **Application order** – какой приоритет данный университет имел для студента при поступлении (от 0 до 9, 0 – студент хотел поступить именно сюда в первую очередь, 9 – студент хотел поступить сюда в последнюю очередь)\n",
    "- **Course** – специальность (33 – Технологии производства биотоплива 171 – Анимация и мультимедийный дизайн, ...)\n",
    "- **Daytime/evening attendance** – форма обучения (1 – дневная, 0 – вечерняя)\n",
    "- **Previous qualification** – предыдущее образование (ступень)\n",
    "- **Grade of previous qualification** (от 0 до 200) – оценка, полученная за предыдущее образование\n",
    "- **Nacionality** – национальность\n",
    "- **Mother's qualification** – уровень образования матери\n",
    "- **Father's qualification** – уровень образования отца\n",
    "- **Mother's occupation** – область занятости матери (вид работы)\n",
    "- **Father's occupation** – область занятости отца (вид работы)\n",
    "- **Admission grade** – общий балл при поступлении (от 0 до 200)\n",
    "- **Displaced** – переселенец (1) или нет (0)\n",
    "- **Educational special needs** – имеет особые образовательные потребности (1 – да, 0 – нет)\n",
    "- **Debtor** – имеет задолженность оплаты за учёбу (на момент сбора статистики) (1 – да, 0 – нет)\n",
    "- **Tuition fees up to date** – оплатил учёбу на данный момент (на момент сбора статистики) (1 – да, 0 – нет)\n",
    "- **Gender** – пол (1 – мужской, 0 – женский)\n",
    "- **Scholarship holder** – является стипендиатом (1 – да, 0 – нет)\n",
    "- **Age at enrollment** – возраст на момент зачисления в университет\n",
    "- **International** – международный (1) или нет (0) студент\n",
    "- **Curricular units 1st sem (grade)** – средний балл за 1-й семестр обучения (от 0 до 20)\n",
    "- **Curricular units 2nd sem (grade)** – средний балл за 2-й семестр обучения (от 0 до 20)\n",
    "- **Unemployment rate** – уровень безработицы в стране обучения (в %)\n",
    "- **Inflation rate** – уровень инфляции в стране обучения (в %)\n",
    "- **GDP** – ВВП страны обучения.\n",
    "\n",
    "Мы будем работать с пересчисленными выше 26 признаками.  \n",
    "Некоторые побочные признаки были отсечены в самом начале работы ввиду сложнопереводимости их смысла на русский язык.\n",
    "\n",
    "В нашем датасете все признаки представлены числовыми значениями, но это вовсе не означает, что все они – числовые.  \n",
    "Многие из них – *числовые (дискретные)*, например, возраст на момент поступления.  \n",
    "Некоторые – *числовые (непрерывные)*, например, средний балл студента.  \n",
    "Также среди признаков довольно много *категориальных (неупорядоченных, т.е. номинальных)* и *бинарных*.  \n",
    "Бинарные (в теории) можно считать как *категориальными неупорядоченными (номинальными)*, так и *числовыми (дискретными)*, но считать, например, что студент одного пола по определению лучше студента другого, было бы странно."
   ]
  },
  {
   "cell_type": "code",
   "execution_count": null,
   "id": "d7faebe9",
   "metadata": {},
   "outputs": [],
   "source": [
    "# Настройка типов признаков в Pandas dataframe\n",
    "X['Marital Status'] = X['Marital Status'].astype('category')\n",
    "X['Application mode'] = X['Application mode'].astype('category')\n",
    "X['Course'] = X['Course'].astype('category')\n",
    "X['Daytime/evening attendance'] = X['Daytime/evening attendance'].astype('category')\n",
    "X['Previous qualification'] = X['Previous qualification'].astype('category')\n",
    "X['Nacionality'] = X['Nacionality'].astype('category')\n",
    "X['Mother\\'s qualification'] = X['Mother\\'s qualification'].astype('category')\n",
    "X['Father\\'s qualification'] = X['Father\\'s qualification'].astype('category')\n",
    "X['Mother\\'s occupation'] = X['Mother\\'s occupation'].astype('category')\n",
    "X['Father\\'s occupation'] = X['Father\\'s occupation'].astype('category')\n",
    "X['Displaced'] = X['Displaced'].astype('category')\n",
    "X['Educational special needs'] = X['Educational special needs'].astype('category')\n",
    "X['Debtor'] = X['Debtor'].astype('category')\n",
    "X['Tuition fees up to date'] = X['Tuition fees up to date'].astype('category')\n",
    "X['Gender'] = X['Gender'].astype('category')\n",
    "X['Scholarship holder'] = X['Scholarship holder'].astype('category')\n",
    "X['International'] = X['International'].astype('category')\n",
    "X['Target'] = X['Target'].astype('category')\n",
    "X.info()"
   ]
  },
  {
   "cell_type": "markdown",
   "id": "1d851a5a",
   "metadata": {},
   "source": [
    "### Информация о числовых признаках в нашей задаче:"
   ]
  },
  {
   "cell_type": "code",
   "execution_count": null,
   "id": "efa003fb",
   "metadata": {},
   "outputs": [],
   "source": [
    "X.describe(include=['int64', 'float64'])"
   ]
  },
  {
   "cell_type": "markdown",
   "id": "3dce99f7",
   "metadata": {},
   "source": [
    "Здесь\n",
    "- *min* – минимальное значение признака в таблице\n",
    "- *max* – максимальное значение\n",
    "- *mean* – среднее значение  \n",
    "- *std* – среднеквадратическое отклонение (степень отклонения значений от среднего)  \n",
    "- *25%* – 0.25-квантиль (25-й перцентиль, или первый квартиль) – значение, ниже которого лежит 25% значений  \n",
    "- *50%* – медиана – значение, 50% значений меньше которого, а другие 50% больше\n",
    "- *75%* – 0.75-квантиль (75-й перцентиль, или третий квартиль) – значение, ниже которого лежит около 75%, т.е. 75% значений меньше данного.\n",
    "\n",
    "Балл студентов при поступлении (Admission grade) в среднем был ≈126.978 (а 95 и 190 – минимальный и максимальный баллы);  \n",
    "25% студентов поступали с баллом не выше 117.9;  \n",
    "75% студентов поступали с баллом не выше 134.8 (иначе говоря, лишь 25% студентов имеют балл выше);  \n",
    "средний возраст на момент поступления – 23 года;  \n",
    "25% студентов поступали в возрасте 19 лет и ранее;  \n",
    "25% студентов поступали в возрасте выше 25 лет;  \n",
    "средние баллы всех студентов за 1-й и 2-й семестры похожи.\n",
    "\n",
    "Построим матрицу корелляции для числовых признаков:"
   ]
  },
  {
   "cell_type": "code",
   "execution_count": null,
   "id": "c99d91f5",
   "metadata": {},
   "outputs": [],
   "source": [
    "corrMatrix = X.select_dtypes(include=['int64', 'float64']).corr()\n",
    "corrMatrix.style.background_gradient(cmap='coolwarm', vmin=-1, vmax=1)"
   ]
  },
  {
   "cell_type": "markdown",
   "id": "08bded3e",
   "metadata": {},
   "source": [
    "Из данной матрицы можем заметить, что\n",
    "- **Балл при поступлении (Admission grade) ощутимо коррелирует со средним баллом предыдущего образования (Previous qualification (grade))**\n",
    "- **Существует существенная корреляция между средними баллами за 1-й и 2-й семестры обучения**\n",
    "- Заметна некоторая корреляция между ВВП страны обучения и процентом безработицы.\n",
    "\n",
    "### Информация о категориальных (в т.ч. бинарных) признаках в нашей задаче:"
   ]
  },
  {
   "cell_type": "code",
   "execution_count": null,
   "id": "ef53672b",
   "metadata": {},
   "outputs": [],
   "source": [
    "X.describe(include=['category'])"
   ]
  },
  {
   "cell_type": "markdown",
   "id": "4883f752",
   "metadata": {},
   "source": [
    "Более всего одиноких студентов (1).  \n",
    "Большинство студентов – дневной (1) формы обучения.  \n",
    "Большинство студентов являются ранее получившими лишь среднее образование (1).  \n",
    "Большинство студентов – португальцы (1).  \n",
    "Матери большинства студентов имеют лишь среднее образование (12 лет обучения), а отцы большинства студентов имеют и вовсе лишь оконченный 1-й цикл базового образования (4-5 лет).  \n",
    "Матери и отцы большинства студентов – неквалифицированные рабочие (9).  \n",
    "Большинство студентов – женского пола (0).  \n",
    "Примерно половина студентов – успешно окончившие обучение и получившие диплом.  \n",
    "Число студентов-переселенцев немного больше числа не переселенцев.  \n",
    "Число студентов с особенными образовательными потребностями очень мало.  \n",
    "Стипендиатов около 25%.  \n",
    "Международных студентов довольно мало, 110 человек (менее 3%)."
   ]
  },
  {
   "cell_type": "markdown",
   "id": "118af476",
   "metadata": {},
   "source": [
    "# 2. Визуализация данных, борьба с выбросами"
   ]
  },
  {
   "cell_type": "markdown",
   "id": "815cb27a",
   "metadata": {},
   "source": [
    "При помощи Pandas построим матрицу из диаграмм рассеивания."
   ]
  },
  {
   "cell_type": "code",
   "execution_count": null,
   "id": "f7adc650",
   "metadata": {},
   "outputs": [],
   "source": [
    "pd.plotting.scatter_matrix(X, figsize = (26, 26))\n",
    "pass"
   ]
  },
  {
   "cell_type": "markdown",
   "id": "1b2edfcc",
   "metadata": {},
   "source": [
    "### Избавление от выбросов\n",
    "Для избавления от выбросов проанализируем средние баллы студентов при поступлении."
   ]
  },
  {
   "cell_type": "code",
   "execution_count": null,
   "id": "4c4756ae",
   "metadata": {},
   "outputs": [],
   "source": [
    "X['Admission grade'].quantile([0.005,.01,.05,.1,.5,.9,.95,.99,.995])"
   ]
  },
  {
   "cell_type": "markdown",
   "id": "4e06085f",
   "metadata": {},
   "source": [
    "Как мы видим, 99% студентов имеют средние баллы при поступлении от 99 до 166.831."
   ]
  },
  {
   "cell_type": "code",
   "execution_count": null,
   "id": "4955453e",
   "metadata": {},
   "outputs": [],
   "source": [
    "X['Admission grade'].plot(kind='box')\n",
    "pass"
   ]
  },
  {
   "cell_type": "markdown",
   "id": "68440772",
   "metadata": {},
   "source": [
    "Исключим из рассмотрения 45 студентов, имеющих баллы при поступлении ниже 96.169 (слишком низкие) или выше 170 (слишком высокие)."
   ]
  },
  {
   "cell_type": "code",
   "execution_count": null,
   "id": "71f5863d",
   "metadata": {},
   "outputs": [],
   "source": [
    "#outliers_1 = X[X['Admission grade'] < 96.169]\n",
    "#outliers_2 = X[X['Admission grade'] > 170]\n",
    "#outliers = pd.concat([outliers_1, outliers_2], ignore_index=True)\n",
    "rowsToDrop = X[(X['Admission grade'] < X['Admission grade'].quantile(0.005)) | (X['Admission grade'] > X['Admission grade'].quantile(0.995))].index\n",
    "Xclear = X.drop(rowsToDrop)"
   ]
  },
  {
   "cell_type": "code",
   "execution_count": null,
   "id": "b6aa5935",
   "metadata": {},
   "outputs": [],
   "source": [
    "Xclear['Admission grade'].plot(kind='box')\n",
    "pass"
   ]
  },
  {
   "cell_type": "markdown",
   "id": "71d973e8",
   "metadata": {},
   "source": [
    "Также заметим, что среди оставшихся студентов есть более 10% студентов, для которых средние баллы за 1-й и 2-й семестр почему-то равны 0."
   ]
  },
  {
   "cell_type": "code",
   "execution_count": null,
   "id": "ad60150a",
   "metadata": {},
   "outputs": [],
   "source": [
    "Xclear['Curricular units 1st sem (grade)'].plot(kind='box')\n",
    "pass"
   ]
  },
  {
   "cell_type": "markdown",
   "id": "981409a4",
   "metadata": {},
   "source": [
    "Чтобы избавиться от этого странного явления, заменим все нулевые значения в столбцах *Curricular units 1st sem (grade)* и *Curricular units 2nd sem (grade)* на медианы соответствующих значений."
   ]
  },
  {
   "cell_type": "code",
   "execution_count": null,
   "id": "3fa7a5fc",
   "metadata": {},
   "outputs": [],
   "source": []
  }
 ],
 "metadata": {
  "kernelspec": {
   "display_name": "Python 3 (ipykernel)",
   "language": "python",
   "name": "python3"
  },
  "language_info": {
   "codemirror_mode": {
    "name": "ipython",
    "version": 3
   },
   "file_extension": ".py",
   "mimetype": "text/x-python",
   "name": "python",
   "nbconvert_exporter": "python",
   "pygments_lexer": "ipython3",
   "version": "3.8.0"
  }
 },
 "nbformat": 4,
 "nbformat_minor": 5
}
